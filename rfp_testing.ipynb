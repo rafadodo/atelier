{
 "cells": [
  {
   "cell_type": "code",
   "execution_count": null,
   "metadata": {},
   "outputs": [],
   "source": [
    "import numpy as np\n",
    "import matplotlib.pyplot as plt\n",
    "from scipy import signal\n",
    "import rfp_utils\n",
    "import utils"
   ]
  },
  {
   "cell_type": "code",
   "execution_count": null,
   "metadata": {},
   "outputs": [],
   "source": [
    "# FRF teórica, con 2 picos acoplados y un 3ero lejano\n",
    "f_n = np.array(([10, 12, 60]))\n",
    "w_n = 2*np.pi*f_n\n",
    "xi_n = np.array(([0.05, 0.045, 0.025]))\n",
    "r_n = np.array(([200*np.exp(1j*np.pi), 150*np.exp(1j*np.pi), 2500]))\n",
    "\n",
    "w = np.linspace(0,400,4001)\n",
    "f = w/2/np.pi"
   ]
  },
  {
   "cell_type": "code",
   "execution_count": null,
   "metadata": {},
   "outputs": [],
   "source": [
    "frf = np.zeros(len(w), dtype=complex)\n",
    "for k in range(len(r_n)):\n",
    "    frf += r_n[k] / (w_n[k]**2 - w**2 + 1j*2*w*w_n[k]*xi_n[k])"
   ]
  },
  {
   "cell_type": "code",
   "execution_count": null,
   "metadata": {},
   "outputs": [],
   "source": [
    "plt.plot(f, abs(frf))\n",
    "plt.show()"
   ]
  },
  {
   "cell_type": "code",
   "execution_count": null,
   "metadata": {},
   "outputs": [],
   "source": [
    "# Parametrización modal del 1er pico por RFP\n",
    "modal_params, alpha = rfp_utils.rfp(frf[400:700], w[400:700], 3)\n",
    "freq_n, xi_n, modal_mag_n, modal_ang_n = modal_params\n",
    "\n",
    "print('Frequencias: {} Hz'.format(np.round(freq_n, 2)))\n",
    "print('Amortiguamientos: {}'.format(np.round(xi_n, 3)))\n",
    "plt.semilogy(f, abs(frf))\n",
    "plt.plot(f[400:700], abs(alpha))\n",
    "plt.show()"
   ]
  },
  {
   "cell_type": "markdown",
   "metadata": {},
   "source": [
    "### GRFP"
   ]
  },
  {
   "cell_type": "code",
   "execution_count": null,
   "metadata": {},
   "outputs": [],
   "source": [
    "# Ampliación de los residuos a varias mediciones\n",
    "r_n0 = np.array(([75*np.exp(1j*np.pi), 75*np.exp(0), 2500*np.exp(0)]))\n",
    "r_n1 = np.array(([150*np.exp(1j*np.pi), 150*np.exp(1j*np.pi), 0]))\n",
    "r_n2 = np.array(([200*np.exp(1j*np.pi), 75*np.exp(0), 2500*np.exp(1j*np.pi)]))\n",
    "\n",
    "r_n = np.array([r_n0, r_n1, r_n2])\n",
    "n_dof = r_n.shape[0]\n",
    "n_modes = r_n.shape[1]\n",
    "utils.plot_column_modes(r_n)"
   ]
  },
  {
   "cell_type": "code",
   "execution_count": null,
   "metadata": {},
   "outputs": [],
   "source": [
    "# Obtención de las distintas FRF\n",
    "frf = np.zeros((len(w), n_dof), dtype=complex)\n",
    "for dof in range(n_dof):\n",
    "    for mode in range(n_modes):\n",
    "        frf[:, dof] += r_n[dof, mode] / (w_n[mode]**2 - w**2 + 1j*2*w*w_n[mode]*xi_n[mode])\n",
    "\n",
    "plt.semilogy(f, np.abs(frf))\n",
    "plt.show()"
   ]
  },
  {
   "cell_type": "markdown",
   "metadata": {},
   "source": [
    "### Parametrización por GRFP de los 1eros 2 picos"
   ]
  },
  {
   "cell_type": "code",
   "execution_count": null,
   "metadata": {},
   "outputs": [],
   "source": [
    "# Obtencion del polinomio denominador\n",
    "idx12 = np.linspace(300, 1000, 701, dtype=int)\n",
    "w12 = w[idx12]\n",
    "denominator, denominator_coeff = rfp_utils.grfp_denominator(frf[idx12, :], w12, 3)\n",
    "\n",
    "plt.semilogy(w12, np.abs(1/denominator))\n",
    "plt.show()"
   ]
  },
  {
   "cell_type": "code",
   "execution_count": null,
   "metadata": {},
   "outputs": [],
   "source": [
    "# Obtencion de los parametros modales de cada FRF\n",
    "frf_estimates, modal_params = rfp_utils.grfp_parameters(frf[idx12, :], w12, denominator, denominator_coeff, 3)"
   ]
  },
  {
   "cell_type": "code",
   "execution_count": null,
   "metadata": {},
   "outputs": [],
   "source": [
    "freq_n, xi_n, modal_mag_n, modal_ang_n = modal_params\n",
    "mode_vectors = (modal_mag_n*np.exp(1j*modal_ang_n)).T\n",
    "\n",
    "print('Frequencias: {} Hz'.format(np.round(freq_n, 2)))\n",
    "print('Amortiguamientos: {}'.format(np.round(xi_n, 3)))\n",
    "utils.plot_column_modes(mode_vectors)"
   ]
  },
  {
   "cell_type": "code",
   "execution_count": null,
   "metadata": {},
   "outputs": [],
   "source": [
    "fig, ax= plt.subplots(1, n_dof, figsize=(17,6))\n",
    "[ax.flat[i].grid(True, markevery=1) for i in range(len(ax.flat))]\n",
    "\n",
    "for dof in range(n_dof):\n",
    "    ax.flat[dof].semilogy(w12, np.abs(frf[idx12, dof]), label='teorica')\n",
    "    ax.flat[dof].semilogy(w12, np.abs(frf_estimates[:, dof]), label='estimada')\n",
    "    ax.flat[dof].legend()\n",
    "    plt.plot()"
   ]
  }
 ],
 "metadata": {
  "kernelspec": {
   "display_name": "Python 3",
   "language": "python",
   "name": "python3"
  },
  "language_info": {
   "codemirror_mode": {
    "name": "ipython",
    "version": 3
   },
   "file_extension": ".py",
   "mimetype": "text/x-python",
   "name": "python",
   "nbconvert_exporter": "python",
   "pygments_lexer": "ipython3",
   "version": "3.7.6"
  }
 },
 "nbformat": 4,
 "nbformat_minor": 2
}
