{
 "cells": [
  {
   "cell_type": "code",
   "execution_count": null,
   "metadata": {},
   "outputs": [],
   "source": [
    "import numpy as np\n",
    "\n",
    "from scipy import stats\n",
    "from scipy import signal\n",
    "from scipy import integrate\n",
    "from scipy import fftpack\n",
    "\n",
    "import matplotlib.pyplot as plt\n",
    "from matplotlib.animation import FuncAnimation\n",
    "\n",
    "from utils import printMatrix\n",
    "\n",
    "plt.style.use('seaborn-pastel')"
   ]
  },
  {
   "cell_type": "markdown",
   "metadata": {},
   "source": [
    "## Simulación de edificio de 4 pisos como masas puntuales con rigideces intermedias"
   ]
  },
  {
   "cell_type": "code",
   "execution_count": null,
   "metadata": {},
   "outputs": [],
   "source": [
    "# Edificio de 4 pisos de 20 toneladas cada uno, con rigideces laterales de 57MN/m entre si\n",
    "k = 57e6 # N/m\n",
    "m = 20e3 # kg\n",
    "\n",
    "k1, k2, k3, k4 = k, k, k, k\n",
    "m1, m2, m3, m4 = m, m, m, m\n",
    "\n",
    "# Matrices de rigidez y de masa\n",
    "K = np.array([[k1+k2, -k2, 0, 0],\n",
    "             [-k2, k2+k3, -k3, 0],\n",
    "             [0, -k3, k3+k4, -k4],\n",
    "             [0, 0, -k4, k4]])\n",
    "\n",
    "M = np.diag((m1, m2, m3, m4))\n",
    "\n",
    "print(('K = {}').format(K))\n",
    "print(('M = {}').format(M))"
   ]
  },
  {
   "cell_type": "code",
   "execution_count": null,
   "metadata": {},
   "outputs": [],
   "source": [
    "# Resuelvo autovectores y autovalores\n",
    "A = np.linalg.inv(M)@K\n",
    "lamb, eigv = np.linalg.eig(A)"
   ]
  },
  {
   "cell_type": "code",
   "execution_count": null,
   "metadata": {},
   "outputs": [],
   "source": [
    "# convierto velocidades angulares a frecuencias\n",
    "w_modes = np.sqrt(lamb)\n",
    "f = w_modes/2/np.pi\n",
    "print(('f = {}').format(np.round(f,3)))"
   ]
  },
  {
   "cell_type": "code",
   "execution_count": null,
   "metadata": {},
   "outputs": [],
   "source": [
    "# Matriz de autovectores (columnas)\n",
    "print(\"eigv:\")\n",
    "printMatrix(eigv)"
   ]
  },
  {
   "cell_type": "code",
   "execution_count": null,
   "metadata": {},
   "outputs": [],
   "source": [
    "# Matriz de masas modales\n",
    "M_modal = np.transpose(eigv)@M@eigv\n",
    "M_modal[M_modal<1e-3] = np.nan\n",
    "print(\"M_modal:\")\n",
    "printMatrix(M_modal)"
   ]
  },
  {
   "cell_type": "code",
   "execution_count": null,
   "metadata": {},
   "outputs": [],
   "source": [
    "# Matriz de rigideces modales\n",
    "K_modal = np.transpose(eigv)@K@eigv\n",
    "K_modal[K_modal<1e-3] = np.nan\n",
    "print(\"K_modal:\")\n",
    "printMatrix(K_modal)"
   ]
  },
  {
   "cell_type": "code",
   "execution_count": null,
   "metadata": {},
   "outputs": [],
   "source": [
    "# Verifico la validez de las matrices obteniendo las fercuencias modales nuevamente, ahora como w_i = sqrt(k_i/m_i)\n",
    "w_2 = np.zeros(len(w_modes))\n",
    "for mode in range(len(w_2)):\n",
    "    w_2[mode] = np.sqrt(K_modal[mode,mode]/M_modal[mode,mode])\n",
    "f_2 = w_2/np.pi/2\n",
    "print(('f2 = {}').format(f_2))"
   ]
  },
  {
   "cell_type": "code",
   "execution_count": null,
   "metadata": {},
   "outputs": [],
   "source": [
    "# Normalizo vectores modales\n",
    "eigv_norm = np.zeros(eigv.shape)\n",
    "for mode in range(len(w_modes)):\n",
    "    eigv_norm[:,mode] = eigv[:,mode]/max(abs(eigv[:,mode]))\n",
    "print(\"eigv_norm:\")\n",
    "printMatrix(eigv_norm)"
   ]
  },
  {
   "cell_type": "code",
   "execution_count": null,
   "metadata": {},
   "outputs": [],
   "source": [
    "fig, ax = plt.subplots()\n",
    "fig.add_axes()\n",
    "ax.set(xlim=[-1,1], ylim=[0,5], )\n",
    "ax.grid()\n",
    "ax.set_aspect('equal')\n",
    "eigv_plot = np.zeros((eigv.shape[1] + 1, eigv.shape[1]))\n",
    "eigv_plot[1:, :] = eigv\n",
    "\n",
    "ax.plot(np.zeros(eigv.shape[1] + 1),np.linspace(0,4,5), color='k', marker='o')\n",
    "for col in range(eigv.shape[1]):\n",
    "    ax.plot(eigv_plot[:,col],[0, 1, 2, 3, 4], marker='o')\n",
    "    \n",
    "plt.show()"
   ]
  },
  {
   "cell_type": "code",
   "execution_count": null,
   "metadata": {},
   "outputs": [],
   "source": [
    "fig, ax = plt.subplots()\n",
    "fig.add_axes()\n",
    "ax.set(xlim=[-1,1], ylim=[0,5], )\n",
    "ax.grid()\n",
    "ax.set_aspect('equal')\n",
    "\n",
    "line1, = ax.plot([], [], lw=3)\n",
    "line2, = ax.plot([], [], lw=3)\n",
    "line3, = ax.plot([], [], lw=3)\n",
    "line4, = ax.plot([], [], lw=3)\n",
    "\n",
    "def init():\n",
    "    line1.set_data([], [])\n",
    "    line2.set_data([], [])\n",
    "    line3.set_data([], [])\n",
    "    line4.set_data([], [])\n",
    "    return line1, line2, line3, line4\n",
    "\n",
    "def animate(i):\n",
    "    y = np.linspace(0, 4, 5)\n",
    "    line1.set_data(eigv_plot[:,0]*np.sin(0.2*np.pi*i), y)\n",
    "    line2.set_data(eigv_plot[:,1]*np.sin(0.2*np.pi*i), y)\n",
    "    line3.set_data(eigv_plot[:,2]*np.sin(0.2*np.pi*i), y)\n",
    "    line4.set_data(eigv_plot[:,3]*np.sin(0.2*np.pi*i), y)\n",
    "    return line1, line2, line3, line4\n",
    "\n",
    "anim = FuncAnimation(fig, animate, init_func=init,\n",
    "                               frames=10, interval=200, blit=True)\n",
    "\n",
    "anim.save('sine_wave.gif', writer='imagemagick')"
   ]
  },
  {
   "cell_type": "markdown",
   "metadata": {},
   "source": [
    "## Simulación de aceleración con perfil de ruido blanco"
   ]
  },
  {
   "cell_type": "code",
   "execution_count": null,
   "metadata": {},
   "outputs": [],
   "source": [
    "# Aceleracion maxima en funcion del tiempo\n",
    "def max_accel(t,t_end):\n",
    "    a = 0.5*(1-np.cos(2*np.pi*t/t_end))\n",
    "    return a"
   ]
  },
  {
   "cell_type": "code",
   "execution_count": null,
   "metadata": {},
   "outputs": [],
   "source": [
    "# Simulacion de aceleracion en forma de ruido blanco bajo la curva de aceleracion maxima\n",
    "t_end = 600\n",
    "delta_t = 1/119\n",
    "t = np.linspace(0, t_end, t_end/delta_t)\n",
    "\n",
    "n_uni = stats.uniform.rvs(size=len(t))\n",
    "X = stats.norm.ppf(n_uni) # percentiles para cada valor de n_uni\n",
    "X_mean = np.mean(X)\n",
    "\n",
    "accel = 0.1*(X - X_mean)*max_accel(t,t_end) # aceleracion escalada por factor r\n",
    "# accel = (X - X_mean)\n",
    "max_accel_vec = max_accel(t,t_end)"
   ]
  },
  {
   "cell_type": "code",
   "execution_count": null,
   "metadata": {},
   "outputs": [],
   "source": [
    "fig, ax = plt.subplots(figsize=(12, 10))\n",
    "fig.add_axes()\n",
    "ax.plot(t, accel, color='k', marker='')\n",
    "ax.plot(t, max_accel_vec, color='r')\n",
    "ax.grid(True, markevery=1)"
   ]
  },
  {
   "cell_type": "code",
   "execution_count": null,
   "metadata": {},
   "outputs": [],
   "source": [
    "plt.hist(X, bins=100, density=1)\n",
    "plt.show()"
   ]
  },
  {
   "cell_type": "code",
   "execution_count": null,
   "metadata": {
    "scrolled": true
   },
   "outputs": [],
   "source": [
    "# PSD de aceleraciones en la base\n",
    "freq, psd = signal.welch(accel, \n",
    "                      fs=1./(delta_t), # sample rate\n",
    "                      window='hanning', # apply a Hanning window before taking the DFT\n",
    "                      nperseg=len(t)//27, # compute periodograms of 256-long segments of x\n",
    "                      detrend='constant') # detrend x by subtracting the mean)\n",
    "plt.figure()\n",
    "plt.semilogy(freq[1:], psd[1:])\n",
    "plt.xlabel('frequency [Hz]')\n",
    "plt.ylabel('ASD [g²/Hz]')\n",
    "plt.show()"
   ]
  },
  {
   "cell_type": "code",
   "execution_count": null,
   "metadata": {},
   "outputs": [],
   "source": [
    "print('ASD promedio: {:.3f} g²/Hz'.format(np.mean(psd)))\n",
    "print('Grms para ASD constante = ASD*f_max = {:.3f} g_rms'.format(np.mean(psd)*f[-1]))"
   ]
  },
  {
   "cell_type": "code",
   "execution_count": null,
   "metadata": {},
   "outputs": [],
   "source": [
    "# calculo de g_rms por integracion\n",
    "area = integrate.simps(psd, freq)\n",
    "g_rms = np.sqrt(area)\n",
    "print('Grms = {:.3f} g_rms'.format(g_rms))"
   ]
  },
  {
   "cell_type": "code",
   "execution_count": null,
   "metadata": {},
   "outputs": [],
   "source": [
    "Ug = np.copy(accel)\n",
    "fft_freq = fftpack.rfftfreq(len(Ug), d=delta_t)\n",
    "Ug_fft = abs(fftpack.rfft(Ug))"
   ]
  },
  {
   "cell_type": "code",
   "execution_count": null,
   "metadata": {},
   "outputs": [],
   "source": [
    "plt.figure()\n",
    "plt.semilogy(fft_freq, Ug_fft)\n",
    "plt.title('Aceleracion en la base')\n",
    "plt.xlabel('Frecuencia [Hz]')\n",
    "plt.ylabel('Espectro de aceleraciones [g/Hz]')\n",
    "plt.show()"
   ]
  },
  {
   "cell_type": "markdown",
   "metadata": {},
   "source": [
    "## Simulación de respuesta dinámica del edificio a ruido blanco su base"
   ]
  },
  {
   "cell_type": "code",
   "execution_count": null,
   "metadata": {},
   "outputs": [],
   "source": [
    "xi = 0.025 # fracción de amortiguamiento crítico\n",
    "r = np.array([1, 1, 1, 1]).reshape(4,1) # vector logico de desplazamientos respecto de la base\n",
    "print('xi = {}'.format(xi))\n",
    "print('r = {}^T'.format(r[:,0]))"
   ]
  },
  {
   "cell_type": "markdown",
   "metadata": {},
   "source": [
    "La solucion del espectro de desplazamientos para cada modo es\n",
    "<br/>\n",
    "<center> $Y(\\omega) = \\frac{\\frac{\\iota}{m_i} U_g(\\omega)}{\\omega_i^2 - \\omega^2 + 2i \\xi_i \\omega_i \\omega}$ </center>\n",
    "<br/>\n",
    "con\n",
    "<center> $\\iota = \\Phi^T M r$. </center>\n",
    "<br/>\n",
    "Y la aceleración es\n",
    "<center> $\\ddot{Y}(\\omega) = \\omega^2 Y(\\omega)$ </center>"
   ]
  },
  {
   "cell_type": "code",
   "execution_count": null,
   "metadata": {},
   "outputs": [],
   "source": [
    "#U_g = np.copy(psd)\n",
    "#w = 2*np.pi*freq\n",
    "U_g = np.copy(Ug_fft)\n",
    "w = 2*np.pi*fft_freq"
   ]
  },
  {
   "cell_type": "code",
   "execution_count": null,
   "metadata": {},
   "outputs": [],
   "source": [
    "I = np.transpose(eigv)@M@r\n",
    "print(I)\n",
    "m_modal = M_modal.diagonal()\n",
    "Y = np.zeros((len(w), len(w_modes)), dtype=complex)\n",
    "ddotY = np.copy(Y)\n",
    "for mode in range(Y.shape[1]):\n",
    "    C = I[mode] / (m_modal[mode]*(w_modes[mode]**2 - w**2 + 2*1j*xi*w_modes[mode]*w))\n",
    "    Y[:,mode] = C*U_g\n",
    "    #for idx in range(Y.shape[0]):\n",
    "        #Y[idx, mode] = (I[mode]*U_g[idx]/M_modal[mode,mode]) / (w[mode]**2 - w_psd[idx]**2 + 2*1j*xi*w[mode]*w_psd[idx])\n",
    "    ddotY[:,mode] = (w**2)*Y[:,mode]"
   ]
  },
  {
   "cell_type": "code",
   "execution_count": null,
   "metadata": {},
   "outputs": [],
   "source": [
    "f = w/2/np.pi\n",
    "plt.figure()\n",
    "plt.semilogy(f, abs(Y[:,3]))\n",
    "plt.semilogy(f, abs(Y[:,2]))\n",
    "plt.semilogy(f, abs(Y[:,1]))\n",
    "plt.semilogy(f, abs(Y[:,0]))\n",
    "plt.title('Desplazamientos')\n",
    "plt.xlabel('Frequency [Hz]')\n",
    "plt.ylabel('ASD [m²/Hz]')\n",
    "plt.show()"
   ]
  },
  {
   "cell_type": "code",
   "execution_count": null,
   "metadata": {},
   "outputs": [],
   "source": [
    "plt.figure()\n",
    "plt.semilogy(f, abs(ddotY[:,3]))\n",
    "plt.semilogy(f, abs(ddotY[:,2]))\n",
    "plt.semilogy(f, abs(ddotY[:,1]))\n",
    "plt.semilogy(f, abs(ddotY[:,0]))\n",
    "plt.title('Aceleraciones')\n",
    "plt.xlabel('Frequency [Hz]')\n",
    "plt.ylabel('Espectro de Aceleraciones [g/Hz]')\n",
    "plt.show()"
   ]
  },
  {
   "cell_type": "code",
   "execution_count": null,
   "metadata": {},
   "outputs": [],
   "source": [
    "freq_max = [f[i] for i in ddotY.argmax(axis=0)]\n",
    "print(('freqs from max response = {}').format(np.round(freq_max, 3)))\n",
    "print('errors in % = {}'.format(np.round(100*(w_modes/2/np.pi - freq_max) / (w_modes/2/np.pi), 2)))"
   ]
  },
  {
   "cell_type": "code",
   "execution_count": null,
   "metadata": {},
   "outputs": [],
   "source": []
  },
  {
   "cell_type": "code",
   "execution_count": null,
   "metadata": {},
   "outputs": [],
   "source": []
  }
 ],
 "metadata": {
  "kernelspec": {
   "display_name": "Python 3",
   "language": "python",
   "name": "python3"
  },
  "language_info": {
   "codemirror_mode": {
    "name": "ipython",
    "version": 3
   },
   "file_extension": ".py",
   "mimetype": "text/x-python",
   "name": "python",
   "nbconvert_exporter": "python",
   "pygments_lexer": "ipython3",
   "version": "3.6.9"
  }
 },
 "nbformat": 4,
 "nbformat_minor": 2
}
