{
 "cells": [
  {
   "cell_type": "code",
   "execution_count": null,
   "metadata": {},
   "outputs": [],
   "source": [
    "import matplotlib.pyplot as plt\n",
    "import numpy as np\n",
    "from utils import printMatrix\n",
    "from matplotlib.animation import FuncAnimation\n",
    "\n",
    "plt.style.use('seaborn-pastel')"
   ]
  },
  {
   "cell_type": "code",
   "execution_count": null,
   "metadata": {},
   "outputs": [],
   "source": [
    "k = 57e6 # N/m\n",
    "m = 20e3 # kg\n",
    "\n",
    "k1, k2, k3, k4 = k, k, k, k\n",
    "m1, m2, m3, m4 = m, m, m, m\n",
    "\n",
    "K = np.array([[k1+k2, -k2, 0, 0],\n",
    "             [-k2, k2+k3, -k3, 0],\n",
    "             [0, -k3, k3+k4, -k4],\n",
    "             [0, 0, -k4, k4]])\n",
    "\n",
    "M = np.diag((m1, m2, m3, m4))\n",
    "print(('K = {}').format(K))\n",
    "print(('M = {}').format(M))"
   ]
  },
  {
   "cell_type": "code",
   "execution_count": null,
   "metadata": {},
   "outputs": [],
   "source": [
    "A = np.linalg.inv(M)@K\n",
    "lamb, eigv = np.linalg.eig(A)"
   ]
  },
  {
   "cell_type": "code",
   "execution_count": null,
   "metadata": {},
   "outputs": [],
   "source": [
    "w = np.sqrt(lamb)\n",
    "f = w/2/np.pi\n",
    "print(('f = {}').format(f))"
   ]
  },
  {
   "cell_type": "code",
   "execution_count": null,
   "metadata": {},
   "outputs": [],
   "source": [
    "print(('v = {}').format(eigv))"
   ]
  },
  {
   "cell_type": "code",
   "execution_count": null,
   "metadata": {},
   "outputs": [],
   "source": [
    "M_norm = np.transpose(v)@M@eigv\n",
    "M_norm[M_norm<1e-3] = np.nan\n",
    "printMatrix(M_norm)"
   ]
  },
  {
   "cell_type": "code",
   "execution_count": null,
   "metadata": {},
   "outputs": [],
   "source": [
    "K_norm = np.transpose(v)@K@eigv\n",
    "K_norm[K_norm<1e-3] = np.nan\n",
    "printMatrix(K_norm)"
   ]
  },
  {
   "cell_type": "code",
   "execution_count": null,
   "metadata": {},
   "outputs": [],
   "source": [
    "w_2 = np.zeros(len(w))\n",
    "for mode in range(len(w)):\n",
    "    w_2[mode] = np.sqrt(K_norm[mode,mode]/M_norm[mode,mode])\n",
    "f_2 = w_2/np.pi/2\n",
    "print(('f2 = {}').format(f_2))"
   ]
  },
  {
   "cell_type": "code",
   "execution_count": null,
   "metadata": {
    "scrolled": true
   },
   "outputs": [],
   "source": [
    "A = np.linalg.inv(M)@K\n",
    "print(('Av = {}').format(A@eigv[:,0]))\n",
    "print(('wv = {}').format(lamb[0]*eigv[:,0]))"
   ]
  },
  {
   "cell_type": "code",
   "execution_count": null,
   "metadata": {},
   "outputs": [],
   "source": [
    "for mode in range(len(w)):\n",
    "    eigv[:,mode] = eigv[:,mode]/max(abs(eigv[:,mode]))\n",
    "eigv"
   ]
  },
  {
   "cell_type": "code",
   "execution_count": null,
   "metadata": {},
   "outputs": [],
   "source": [
    "printMatrix(eigv)"
   ]
  },
  {
   "cell_type": "code",
   "execution_count": null,
   "metadata": {},
   "outputs": [],
   "source": [
    "fig, ax = plt.subplots()\n",
    "fig.add_axes()\n",
    "ax.set(xlim=[-1,1], ylim=[0,5], )\n",
    "ax.grid()\n",
    "ax.set_aspect('equal')\n",
    "eigv_plot = np.zeros((eigv.shape[1] + 1, eigv.shape[1]))\n",
    "eigv_plot[1:, :] = eigv\n",
    "\n",
    "ax.plot(np.zeros(eigv.shape[1] + 1),np.linspace(0,4,5), color='k', marker='o')\n",
    "for col in range(eigv.shape[1]):\n",
    "    ax.plot(eigv_plot[:,col],[0, 1, 2, 3, 4], marker='o')\n",
    "    \n",
    "plt.show()"
   ]
  },
  {
   "cell_type": "code",
   "execution_count": null,
   "metadata": {},
   "outputs": [],
   "source": [
    "fig, ax = plt.subplots()\n",
    "fig.add_axes()\n",
    "ax.set(xlim=[-1,1], ylim=[0,5], )\n",
    "ax.grid()\n",
    "ax.set_aspect('equal')\n",
    "\n",
    "line1, = ax.plot([], [], lw=3)\n",
    "line2, = ax.plot([], [], lw=3)\n",
    "line3, = ax.plot([], [], lw=3)\n",
    "line4, = ax.plot([], [], lw=3)\n",
    "\n",
    "def init():\n",
    "    line1.set_data([], [])\n",
    "    line2.set_data([], [])\n",
    "    line3.set_data([], [])\n",
    "    line4.set_data([], [])\n",
    "    return line1, line2, line3, line4\n",
    "\n",
    "def animate(i):\n",
    "    y = np.linspace(0, 4, 5)\n",
    "    line1.set_data(eigv_plot[:,0]*np.sin(0.2*np.pi*i), y)\n",
    "    line2.set_data(eigv_plot[:,1]*np.sin(0.2*np.pi*i), y)\n",
    "    line3.set_data(eigv_plot[:,2]*np.sin(0.2*np.pi*i), y)\n",
    "    line4.set_data(eigv_plot[:,3]*np.sin(0.2*np.pi*i), y)\n",
    "    return line1, line2, line3, line4\n",
    "\n",
    "anim = FuncAnimation(fig, animate, init_func=init,\n",
    "                               frames=10, interval=200, blit=True)\n",
    "\n",
    "anim.save('sine_wave.gif', writer='imagemagick')"
   ]
  }
 ],
 "metadata": {
  "kernelspec": {
   "display_name": "Python 3",
   "language": "python",
   "name": "python3"
  },
  "language_info": {
   "codemirror_mode": {
    "name": "ipython",
    "version": 3
   },
   "file_extension": ".py",
   "mimetype": "text/x-python",
   "name": "python",
   "nbconvert_exporter": "python",
   "pygments_lexer": "ipython3",
   "version": "3.6.9"
  }
 },
 "nbformat": 4,
 "nbformat_minor": 2
}
