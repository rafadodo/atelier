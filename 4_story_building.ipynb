{
 "cells": [
  {
   "cell_type": "code",
   "execution_count": null,
   "metadata": {},
   "outputs": [],
   "source": [
    "import matplotlib.pyplot as plt\n",
    "import numpy as np\n",
    "from utils import printMatrix\n",
    "from matplotlib.animation import FuncAnimation\n",
    "from scipy import stats\n",
    "from scipy import signal\n",
    "\n",
    "plt.style.use('seaborn-pastel')"
   ]
  },
  {
   "cell_type": "code",
   "execution_count": null,
   "metadata": {},
   "outputs": [],
   "source": [
    "# Edificio de 4 pisos de 20 toneladas cada uno, con rigideces laterales de 57MN/m entre si\n",
    "k = 57e6 # N/m\n",
    "m = 20e3 # kg\n",
    "\n",
    "k1, k2, k3, k4 = k, k, k, k\n",
    "m1, m2, m3, m4 = m, m, m, m\n",
    "\n",
    "# Matrices de rigidez y de masa\n",
    "K = np.array([[k1+k2, -k2, 0, 0],\n",
    "             [-k2, k2+k3, -k3, 0],\n",
    "             [0, -k3, k3+k4, -k4],\n",
    "             [0, 0, -k4, k4]])\n",
    "\n",
    "M = np.diag((m1, m2, m3, m4))\n",
    "\n",
    "print(('K = {}').format(K))\n",
    "print(('M = {}').format(M))"
   ]
  },
  {
   "cell_type": "code",
   "execution_count": null,
   "metadata": {},
   "outputs": [],
   "source": [
    "# Resuelvo autovectores y autovalores\n",
    "A = np.linalg.inv(M)@K\n",
    "lamb, eigv = np.linalg.eig(A)"
   ]
  },
  {
   "cell_type": "code",
   "execution_count": null,
   "metadata": {},
   "outputs": [],
   "source": [
    "# convierto velocidades angulares a frecuencias\n",
    "w = np.sqrt(lamb)\n",
    "f = w/2/np.pi\n",
    "print(('f = {}').format(f))"
   ]
  },
  {
   "cell_type": "code",
   "execution_count": null,
   "metadata": {},
   "outputs": [],
   "source": [
    "# Matriz de autovectores (columnas)\n",
    "print(\"eigv:\")\n",
    "printMatrix(eigv)"
   ]
  },
  {
   "cell_type": "code",
   "execution_count": null,
   "metadata": {},
   "outputs": [],
   "source": [
    "# Matriz de masas modales\n",
    "M_modal = np.transpose(eigv)@M@eigv\n",
    "M_modal[M_modal<1e-3] = np.nan\n",
    "print(\"M_modal:\")\n",
    "printMatrix(M_modal)"
   ]
  },
  {
   "cell_type": "code",
   "execution_count": null,
   "metadata": {},
   "outputs": [],
   "source": [
    "# Matriz de rigideces modales\n",
    "K_modal = np.transpose(eigv)@K@eigv\n",
    "K_modal[K_modal<1e-3] = np.nan\n",
    "print(\"K_modal:\")\n",
    "printMatrix(K_norm)"
   ]
  },
  {
   "cell_type": "code",
   "execution_count": null,
   "metadata": {},
   "outputs": [],
   "source": [
    "# Verifico la validez de las matrices obteniendo las fercuencias modales nuevamente, ahora como w_i = sqrt(k_i/m_i)\n",
    "w_2 = np.zeros(len(w))\n",
    "for mode in range(len(w)):\n",
    "    w_2[mode] = np.sqrt(K_modal[mode,mode]/M_modal[mode,mode])\n",
    "f_2 = w_2/np.pi/2\n",
    "print(('f2 = {}').format(f_2))"
   ]
  },
  {
   "cell_type": "code",
   "execution_count": null,
   "metadata": {},
   "outputs": [],
   "source": [
    "# Normalizo vectores modales\n",
    "eigv_norm = eigv\n",
    "for mode in range(len(w)):\n",
    "    eigv_norm[:,mode] = eigv[:,mode]/max(abs(eigv[:,mode]))\n",
    "print(\"eigv_norm:\")\n",
    "printMatrix(eigv_norm)"
   ]
  },
  {
   "cell_type": "code",
   "execution_count": null,
   "metadata": {},
   "outputs": [],
   "source": [
    "fig, ax = plt.subplots()\n",
    "fig.add_axes()\n",
    "ax.set(xlim=[-1,1], ylim=[0,5], )\n",
    "ax.grid()\n",
    "ax.set_aspect('equal')\n",
    "eigv_plot = np.zeros((eigv.shape[1] + 1, eigv.shape[1]))\n",
    "eigv_plot[1:, :] = eigv\n",
    "\n",
    "ax.plot(np.zeros(eigv.shape[1] + 1),np.linspace(0,4,5), color='k', marker='o')\n",
    "for col in range(eigv.shape[1]):\n",
    "    ax.plot(eigv_plot[:,col],[0, 1, 2, 3, 4], marker='o')\n",
    "    \n",
    "plt.show()"
   ]
  },
  {
   "cell_type": "code",
   "execution_count": null,
   "metadata": {},
   "outputs": [],
   "source": [
    "fig, ax = plt.subplots()\n",
    "fig.add_axes()\n",
    "ax.set(xlim=[-1,1], ylim=[0,5], )\n",
    "ax.grid()\n",
    "ax.set_aspect('equal')\n",
    "\n",
    "line1, = ax.plot([], [], lw=3)\n",
    "line2, = ax.plot([], [], lw=3)\n",
    "line3, = ax.plot([], [], lw=3)\n",
    "line4, = ax.plot([], [], lw=3)\n",
    "\n",
    "def init():\n",
    "    line1.set_data([], [])\n",
    "    line2.set_data([], [])\n",
    "    line3.set_data([], [])\n",
    "    line4.set_data([], [])\n",
    "    return line1, line2, line3, line4\n",
    "\n",
    "def animate(i):\n",
    "    y = np.linspace(0, 4, 5)\n",
    "    line1.set_data(eigv_plot[:,0]*np.sin(0.2*np.pi*i), y)\n",
    "    line2.set_data(eigv_plot[:,1]*np.sin(0.2*np.pi*i), y)\n",
    "    line3.set_data(eigv_plot[:,2]*np.sin(0.2*np.pi*i), y)\n",
    "    line4.set_data(eigv_plot[:,3]*np.sin(0.2*np.pi*i), y)\n",
    "    return line1, line2, line3, line4\n",
    "\n",
    "anim = FuncAnimation(fig, animate, init_func=init,\n",
    "                               frames=10, interval=200, blit=True)\n",
    "\n",
    "anim.save('sine_wave.gif', writer='imagemagick')"
   ]
  },
  {
   "cell_type": "code",
   "execution_count": null,
   "metadata": {},
   "outputs": [],
   "source": []
  },
  {
   "cell_type": "code",
   "execution_count": null,
   "metadata": {},
   "outputs": [],
   "source": [
    "# Aceleracion maxima en funcion del tiempo\n",
    "def max_accel(t,t_end):\n",
    "    a = 0.5*(1-np.cos(2*np.pi*t/t_end))\n",
    "    return a"
   ]
  },
  {
   "cell_type": "code",
   "execution_count": null,
   "metadata": {},
   "outputs": [],
   "source": [
    "# Simulacion de aceleracion en forma de ruido blanco bajo la curva de aceleracion maxima\n",
    "t_end = 600\n",
    "delta_t = 1/10\n",
    "t = np.linspace(0, t_end, t_end/delta_t)\n",
    "accel = np.zeros(len(t))\n",
    "X = np.zeros(len(t))\n",
    "for step in range(len(t)):\n",
    "    uniform_num = stats.uniform.rvs() # numero entre 0 y 1, uniforme\n",
    "    X[step] = stats.norm.ppf(uniform_num) # numero tal que la probabilidad de ser menor a el en una nomal sea uniform_num\n",
    "X_mean = np.mean(X)\n",
    "accel = (X - X_mean)*max_accel(t,t_end) # aceleracion escalada por factor r"
   ]
  },
  {
   "cell_type": "code",
   "execution_count": null,
   "metadata": {},
   "outputs": [],
   "source": [
    "fig, ax = plt.subplots(figsize=(12, 10))\n",
    "fig.add_axes()\n",
    "ax.plot(t, accel, color='k', marker='')\n",
    "ax.plot(t, max_accel(t,t_end), color='r')"
   ]
  },
  {
   "cell_type": "code",
   "execution_count": null,
   "metadata": {},
   "outputs": [],
   "source": [
    "plt.psd(accel)\n",
    "plt.show()"
   ]
  },
  {
   "cell_type": "code",
   "execution_count": null,
   "metadata": {},
   "outputs": [],
   "source": [
    "f, psd = signal.welch(accel)\n",
    "plt.figure()\n",
    "plt.semilogy(f, np.sqrt(psd))\n",
    "plt.xlabel('frequency [Hz]')\n",
    "plt.ylabel('ASD [g²/Hz]')\n",
    "plt.show()"
   ]
  },
  {
   "cell_type": "code",
   "execution_count": null,
   "metadata": {},
   "outputs": [],
   "source": []
  }
 ],
 "metadata": {
  "kernelspec": {
   "display_name": "Python 3",
   "language": "python",
   "name": "python3"
  },
  "language_info": {
   "codemirror_mode": {
    "name": "ipython",
    "version": 3
   },
   "file_extension": ".py",
   "mimetype": "text/x-python",
   "name": "python",
   "nbconvert_exporter": "python",
   "pygments_lexer": "ipython3",
   "version": "3.6.9"
  }
 },
 "nbformat": 4,
 "nbformat_minor": 2
}
