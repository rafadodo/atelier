{
 "cells": [
  {
   "cell_type": "code",
   "execution_count": null,
   "metadata": {},
   "outputs": [],
   "source": [
    "import numpy as np\n",
    "import pandas as pd\n",
    "\n",
    "from scipy import signal\n",
    "from scipy import integrate\n",
    "from scipy import fftpack\n",
    "\n",
    "import matplotlib.pyplot as plt\n",
    "\n",
    "from utils import *\n",
    "\n",
    "# plt.style.use('seaborn-pastel')"
   ]
  },
  {
   "cell_type": "markdown",
   "metadata": {},
   "source": [
    "## Simulación de edificio de 4 pisos como masas puntuales con rigideces intermedias"
   ]
  },
  {
   "cell_type": "code",
   "execution_count": null,
   "metadata": {},
   "outputs": [],
   "source": [
    "# Edificio de 4 pisos de 20 toneladas cada uno, con rigideces laterales de 57MN/m entre si\n",
    "k = 57e6 # N/m\n",
    "m = 20e3 # kg\n",
    "\n",
    "k1, k2, k3, k4 = k, k, k, k\n",
    "m1, m2, m3, m4 = m, m, m, m\n",
    "\n",
    "# Matrices de rigidez y de masa\n",
    "K = np.array([[k1+k2, -k2, 0, 0],\n",
    "             [-k2, k2+k3, -k3, 0],\n",
    "             [0, -k3, k3+k4, -k4],\n",
    "             [0, 0, -k4, k4]])\n",
    "\n",
    "M = np.diag((m1, m2, m3, m4))\n",
    "\n",
    "print(\"K:\")\n",
    "printMatrix(K)\n",
    "print(\"M:\")\n",
    "printMatrix(M)"
   ]
  },
  {
   "cell_type": "code",
   "execution_count": null,
   "metadata": {},
   "outputs": [],
   "source": [
    "# Resolución por autovectores y autovalores\n",
    "A = np.linalg.inv(M)@K\n",
    "lamb, eigv = np.linalg.eig(A)\n",
    "lamb = np.flip(lamb) # menor a mayor\n",
    "eigv = np.flip(eigv, axis=1)"
   ]
  },
  {
   "cell_type": "code",
   "execution_count": null,
   "metadata": {},
   "outputs": [],
   "source": [
    "# Frecuencias modales\n",
    "w_modes = np.sqrt(lamb)\n",
    "f_modes = w_modes/2/np.pi\n",
    "print(('f = {}').format(np.round(f_modes,3)))"
   ]
  },
  {
   "cell_type": "code",
   "execution_count": null,
   "metadata": {},
   "outputs": [],
   "source": [
    "# Matriz de formas modales\n",
    "print(\"Formas modales:\")\n",
    "printMatrix(eigv)"
   ]
  },
  {
   "cell_type": "code",
   "execution_count": null,
   "metadata": {},
   "outputs": [],
   "source": [
    "# Matriz de masas modales\n",
    "M_modal = np.transpose(eigv)@M@eigv\n",
    "M_modal[M_modal<1e-3] = np.nan\n",
    "print(\"Masas modales:\")\n",
    "printMatrix(M_modal)"
   ]
  },
  {
   "cell_type": "code",
   "execution_count": null,
   "metadata": {},
   "outputs": [],
   "source": [
    "# Matriz de rigideces modales\n",
    "K_modal = np.transpose(eigv)@K@eigv\n",
    "K_modal[K_modal<1e-3] = np.nan\n",
    "print(\"Rigideces modales:\")\n",
    "printMatrix(K_modal)"
   ]
  },
  {
   "cell_type": "code",
   "execution_count": null,
   "metadata": {},
   "outputs": [],
   "source": [
    "# Verificación de la la validez de las matrices,\n",
    "# obteniendo las fercuencias modales nuevamente, \n",
    "# ahora como w_i = sqrt(k_i/m_i)\n",
    "w_2 = np.zeros(len(w_modes))\n",
    "for mode in range(len(w_2)):\n",
    "    w_2[mode] = np.sqrt(K_modal[mode,mode]/M_modal[mode,mode])\n",
    "f_2 = w_2/np.pi/2\n",
    "print(('f_2 = {}').format(np.round(f_2, 3)))"
   ]
  },
  {
   "cell_type": "code",
   "execution_count": null,
   "metadata": {},
   "outputs": [],
   "source": [
    "# Normalización de vectores modales\n",
    "eigv_norm = np.zeros(eigv.shape)\n",
    "for mode in range(len(w_modes)):\n",
    "    eigv_norm[:,mode] = eigv[:,mode]/max(abs(eigv[:,mode]))"
   ]
  },
  {
   "cell_type": "code",
   "execution_count": null,
   "metadata": {},
   "outputs": [],
   "source": [
    "# MAC teórico\n",
    "MAC_theo = get_MAC_matrix(eigv_norm, eigv_norm)\n",
    "plot_MAC(MAC_theo, 'Greens', 'k')\n",
    "print('Max value off diagonal: {:.3f}'.format(get_max_off_diagonal(MAC_theo)))"
   ]
  },
  {
   "cell_type": "code",
   "execution_count": null,
   "metadata": {},
   "outputs": [],
   "source": [
    "# Gráfico de modos\n",
    "plot_modes(eigv_norm)"
   ]
  },
  {
   "cell_type": "markdown",
   "metadata": {},
   "source": [
    "## Simulación de aceleración con perfil de ruido blanco"
   ]
  },
  {
   "cell_type": "code",
   "execution_count": null,
   "metadata": {},
   "outputs": [],
   "source": [
    "# Aceleración maxima en funcion del tiempo\n",
    "def max_accel(t,t_end):\n",
    "    a = 0.5*(1-np.cos(2*np.pi*t/t_end))\n",
    "    return a"
   ]
  },
  {
   "cell_type": "code",
   "execution_count": null,
   "metadata": {},
   "outputs": [],
   "source": [
    "# Simulación de aceleracion en forma de ruido blanco bajo la curva de aceleracion maxima\n",
    "t_end = 600\n",
    "delta_t = 1/119\n",
    "t = np.linspace(0, t_end, int(t_end/delta_t))\n",
    "\n",
    "R = 0.1*np.random.normal(size=len(t)) # Vector de ruido gaussiano\n",
    "R_mean = np.mean(R)\n",
    "\n",
    "accel = (R - R_mean)*max_accel(t,t_end) # Aceleración escalada con ruido\n",
    "max_accel_vec = max_accel(t,t_end) # Vector con aceleraciones puras"
   ]
  },
  {
   "cell_type": "code",
   "execution_count": null,
   "metadata": {},
   "outputs": [],
   "source": [
    "fig, ax = plt.subplots(figsize=(8, 4))\n",
    "fig.add_axes()\n",
    "ax.plot(t, accel, color='k', marker='')\n",
    "ax.plot(t, max_accel_vec, color='r')\n",
    "ax.grid(True, markevery=1)"
   ]
  },
  {
   "cell_type": "code",
   "execution_count": null,
   "metadata": {},
   "outputs": [],
   "source": [
    "# PSD de aceleraciones en la base\n",
    "nperseg=450\n",
    "freq, psd = signal.welch(accel, \n",
    "                      fs=1./(delta_t), # sample rate\n",
    "                      window='hamming', # apply a Hanning window before taking the DFT\n",
    "                      nperseg=nperseg, # compute periodograms of 256-long segments of x\n",
    "                      noverlap=nperseg//2,\n",
    "                      detrend='constant',\n",
    "                      return_onesided=False) #'constant') # detrend x by subtracting the mean)\n",
    "\n",
    "plt.figure()\n",
    "plt.semilogy(freq[1:len(psd)//2], psd[1:len(psd)//2])\n",
    "plt.ylim([np.min(psd[1:]), np.max(psd[1:])])\n",
    "plt.xlabel('frequency [Hz]')\n",
    "plt.ylabel('ASD [g²/Hz]')\n",
    "plt.grid()\n",
    "plt.show()"
   ]
  },
  {
   "cell_type": "code",
   "execution_count": null,
   "metadata": {},
   "outputs": [],
   "source": [
    "psd_mean = np.mean(psd)\n",
    "max_freq = np.max(freq)\n",
    "print('ASD promedio: {:.1g} g²/Hz'.format(psd_mean))\n",
    "print('Grms para ASD constante = ASD*f_max = {:.3f} g_rms'.format(psd_mean*max_freq))"
   ]
  },
  {
   "cell_type": "code",
   "execution_count": null,
   "metadata": {},
   "outputs": [],
   "source": [
    "# calculo de g_rms por integracion\n",
    "area = integrate.simps(psd, freq)\n",
    "g_rms = np.sqrt(area)\n",
    "print('Grms = {:.3f} g_rms'.format(g_rms))"
   ]
  },
  {
   "cell_type": "code",
   "execution_count": null,
   "metadata": {},
   "outputs": [],
   "source": [
    "# Transformada de Fourier de aceleraciones en la base\n",
    "Ug_fft = np.fft.fft(accel) * delta_t\n",
    "Ug_fft_freq = np.fft.fftfreq(t.shape[-1], d=delta_t)\n",
    "\n",
    "plt.figure()\n",
    "plt.semilogy(Ug_fft_freq[:len(Ug_fft_freq)//2], abs(Ug_fft[:len(Ug_fft_freq)//2]))\n",
    "plt.title('Aceleración en la base')\n",
    "plt.xlabel('Frecuencia [Hz]')\n",
    "plt.ylabel('Espectro de aceleraciones [g/Hz]')"
   ]
  },
  {
   "cell_type": "markdown",
   "metadata": {},
   "source": [
    "## Simulación de respuesta dinámica del edificio a ruido blanco su base"
   ]
  },
  {
   "cell_type": "code",
   "execution_count": null,
   "metadata": {},
   "outputs": [],
   "source": [
    "xi = 0.025 # fracción de amortiguamiento crítico\n",
    "Xi = xi*np.ones(eigv_norm.shape[1])\n",
    "r = np.array([1, 1, 1, 1]).reshape(4,1) # vector logico de desplazamientos respecto de la base\n",
    "print('xi = {}'.format(Xi[:]))\n",
    "print('r = {}^T'.format(r[:,0]))"
   ]
  },
  {
   "cell_type": "markdown",
   "metadata": {},
   "source": [
    "La solucion del espectro de desplazamientos para cada modo es\n",
    "<br/>\n",
    "<center> $Y(\\omega) = \\frac{\\frac{\\iota}{m_i} U_g(\\omega)}{\\omega_i^2 - \\omega^2 + 2i \\xi_i \\omega_i \\omega}$ </center>\n",
    "<br/>\n",
    "con\n",
    "<center> $\\iota = \\Phi^T M r$. </center>\n",
    "<br/>\n",
    "Y la aceleración es\n",
    "<center> $\\ddot{Y}(\\omega) = \\omega^2 Y(\\omega)$ </center>"
   ]
  },
  {
   "cell_type": "code",
   "execution_count": null,
   "metadata": {},
   "outputs": [],
   "source": [
    "U_g = np.copy(Ug_fft)\n",
    "w = 2*np.pi*Ug_fft_freq\n",
    "f = w/2/np.pi"
   ]
  },
  {
   "cell_type": "code",
   "execution_count": null,
   "metadata": {},
   "outputs": [],
   "source": [
    "I = np.transpose(eigv)@M@r\n",
    "print(I)\n",
    "m_modal = M_modal.diagonal() \n",
    "Y = np.zeros((len(w), len(w_modes)), dtype=complex)\n",
    "ddotY = np.copy(Y) \n",
    "for mode in range(Y.shape[1]):\n",
    "    C = I[mode] / (m_modal[mode]*(w_modes[mode]**2 - w**2 + 2*1j*Xi[mode]*w_modes[mode]*w))\n",
    "    Y[:,mode] = C*Ug_fft\n",
    "    ddotY[:,mode] = -(w**2)*Y[:,mode]"
   ]
  },
  {
   "cell_type": "code",
   "execution_count": null,
   "metadata": {},
   "outputs": [],
   "source": [
    "plt.figure()\n",
    "lgnd  = ['modo {}'.format(mode+1) for mode in range(Y.shape[1])]\n",
    "plt.semilogy(f[:len(f)//4], abs(ddotY[:len(f)//4]))\n",
    "plt.title('Aceleraciones modales')\n",
    "plt.xlabel('Frequency [Hz]')\n",
    "plt.ylabel('Espectro de Aceleraciones [g/Hz]')\n",
    "plt.ylim([abs(ddotY[len(f)//4, 0]), None])\n",
    "plt.legend(lgnd)\n",
    "plt.show()\n",
    "print(np.max(abs(ddotY)))"
   ]
  },
  {
   "cell_type": "code",
   "execution_count": null,
   "metadata": {},
   "outputs": [],
   "source": [
    "freq_max = [abs(f[i]) for i in ddotY.argmax(axis=0)]\n",
    "print(('freqs from max response = {}').format(np.round(freq_max, 3)))\n",
    "print('errors in % = {}'.format(np.round(100*(f_modes - freq_max) / f_modes, 2)))"
   ]
  },
  {
   "cell_type": "markdown",
   "metadata": {},
   "source": [
    "### Respuesta en cada piso"
   ]
  },
  {
   "cell_type": "code",
   "execution_count": null,
   "metadata": {},
   "outputs": [],
   "source": [
    "# Espectro de respuesta en frecuencia\n",
    "X = np.copy(Y)\n",
    "X = (eigv @ Y.T).T # Desplazamientos en los grados de libertad\n",
    "ddotX = -(w**2 * X.T).T # Aceleraciones"
   ]
  },
  {
   "cell_type": "code",
   "execution_count": null,
   "metadata": {},
   "outputs": [],
   "source": [
    "plt.figure()\n",
    "lgnd  = ['piso {}'.format(mode+1) for mode in range(X.shape[1])]\n",
    "plt.semilogy(f[:len(f)//4], abs(ddotX[:len(f)//4,:]))\n",
    "plt.title('Aceleraciones por piso')\n",
    "plt.xlabel('Frequency [Hz]')\n",
    "plt.ylabel('Espectro de aceleraciones [g/Hz]')\n",
    "plt.ylim([abs(ddotX[len(f)//4, 0]), None])\n",
    "plt.legend(lgnd)\n",
    "plt.show()"
   ]
  },
  {
   "cell_type": "markdown",
   "metadata": {},
   "source": [
    "## Peak-picking (PP)"
   ]
  },
  {
   "cell_type": "code",
   "execution_count": null,
   "metadata": {},
   "outputs": [],
   "source": [
    "ddotX_psd = np.copy(ddotX)\n",
    "for piso in range(X.shape[1]):\n",
    "    ddotX_psd[:, piso] = ddotX[:, piso] * np.conj(ddotX[:, piso])"
   ]
  },
  {
   "cell_type": "code",
   "execution_count": null,
   "metadata": {},
   "outputs": [],
   "source": [
    "# Average Normalized PSD (ANPSD)\n",
    "ANPSD = np.zeros(ddotX_psd.shape[0], dtype=complex)\n",
    "NPSD = np.copy(ddotX_psd)\n",
    "for piso in range(ddotX.shape[1]):\n",
    "    NPSD[:, piso] = ddotX_psd[:, piso] / np.sum(ddotX_psd[:, piso])\n",
    "ANPSD = np.sum(NPSD, axis=1)\n",
    "mode_ind_pp = np.array([m for m in signal.argrelmax(ANPSD[:len(f)//4], order=1000)]).flatten()"
   ]
  },
  {
   "cell_type": "code",
   "execution_count": null,
   "metadata": {},
   "outputs": [],
   "source": [
    "plt.figure()\n",
    "plt.semilogy(f[:len(f)//4], abs(ANPSD[:len(f)//4]), label='ANPSD')\n",
    "plt.scatter(f[mode_ind_pp], abs(ANPSD[mode_ind_pp]), label='modes', color='r')\n",
    "plt.title('Average Normalized PSD')\n",
    "plt.ylim([abs(ANPSD[len(f)//4]), None])\n",
    "plt.xlabel('Frequency [Hz]')\n",
    "plt.ylabel('Densidad espectral de aceleraciones [m²/Hz]')\n",
    "plt.legend()\n",
    "plt.show()"
   ]
  },
  {
   "cell_type": "code",
   "execution_count": null,
   "metadata": {},
   "outputs": [],
   "source": [
    "f_pp = f[mode_ind_pp[:4]]\n",
    "err_f_pp = (f_pp - f_modes)/f_modes*100\n",
    "mode_num = np.array([1, 2, 3, 4])\n",
    "\n",
    "data = np.vstack((mode_num, f_modes, f_pp)).T\n",
    "headers = ['Modo', 'Teoría [Hz]', 'Peak-picking [Hz]']\n",
    "print_modes_dataframe(data=data, headers=headers, decimals=2)"
   ]
  },
  {
   "cell_type": "markdown",
   "metadata": {},
   "source": [
    "### Formas modales"
   ]
  },
  {
   "cell_type": "code",
   "execution_count": null,
   "metadata": {},
   "outputs": [],
   "source": [
    "modes_pp = np.copy(eigv) \n",
    "for mode in range(modes_pp.shape[1]):\n",
    "    idx = mode_ind_pp[mode]\n",
    "    for dof in range(X.shape[1]):\n",
    "        cross_power = ddotX[idx, dof] * np.conj(ddotX[idx, 0])\n",
    "        ang = abs(np.angle(cross_power, deg=True))\n",
    "        if 0 <= ang <= 60:\n",
    "            sign = 1\n",
    "        elif 120 <= ang <=180:\n",
    "            sign = -1\n",
    "        else:\n",
    "            sign = 0\n",
    "        modes_pp[dof, mode] = sign * abs(ddotX[idx, dof]) / abs(ddotX[idx, 0])\n",
    "        \n",
    "# Normalizacion\n",
    "for col in range(modes_pp.shape[1]):\n",
    "    modes_pp[:,col] = modes_pp[:,col]/max(abs(modes_pp[:,col]))"
   ]
  },
  {
   "cell_type": "code",
   "execution_count": null,
   "metadata": {},
   "outputs": [],
   "source": [
    "MAC_pp = get_MAC_matrix(eigv_norm, modes_pp)\n",
    "plot_MAC(MAC_pp, 'Greens', 'k')\n",
    "print('Max value off diagonal: {:.3f}'.format(get_max_off_diagonal(MAC_pp)))"
   ]
  },
  {
   "cell_type": "markdown",
   "metadata": {},
   "source": [
    "## Frequency Domain Decomposition (FDD)"
   ]
  },
  {
   "cell_type": "code",
   "execution_count": null,
   "metadata": {},
   "outputs": [],
   "source": [
    "# Respuesta en el tiempo\n",
    "ddotX_time = fftpack.ifft(ddotX, axis=0) # Obtengo respuestas en el tiempo mediante transformada inversa\n",
    "\n",
    "# Matriz de densidades espectrales cruzadas de la respuesta.\n",
    "csd_nperseg = 1024\n",
    "S_xx = np.zeros((csd_nperseg, ddotX_time.shape[1], ddotX_time.shape[1]), dtype=complex)\n",
    "for piso1 in range(ddotX.shape[1]):\n",
    "    for piso2 in range (ddotX.shape[1]):\n",
    "        f_S, S_xx[:, piso1, piso2] = signal.csd(ddotX_time[:, piso1], ddotX_time[:, piso2],\n",
    "                                               fs=1./(delta_t),\n",
    "                                               window='hanning',\n",
    "                                               nperseg=csd_nperseg,\n",
    "                                               detrend='constant',\n",
    "                                               axis=0,\n",
    "                                               return_onesided=False)"
   ]
  },
  {
   "cell_type": "code",
   "execution_count": null,
   "metadata": {},
   "outputs": [],
   "source": [
    "# Extraigo frecuencias y formas de modo por SVD\n",
    "u, s, vh = np.linalg.svd(S_xx)\n",
    "    \n",
    "# Maximos del primer valor singular\n",
    "mode_ind_fdd = np.array([m for m in signal.argrelmax(s[:, 0], order=12)]).flatten()"
   ]
  },
  {
   "cell_type": "code",
   "execution_count": null,
   "metadata": {},
   "outputs": [],
   "source": [
    "plt.semilogy(f_S[:len(f_S)//4], s[:len(f_S)//4, :])\n",
    "plt.ylim([s[len(f_S)//4, 0], None])\n",
    "plt.scatter(f_S[mode_ind_fdd[:len(mode_ind_fdd)//4]],\n",
    "            abs(s[mode_ind_fdd[:len(mode_ind_fdd)//4], 0]),\n",
    "            color='r')"
   ]
  },
  {
   "cell_type": "code",
   "execution_count": null,
   "metadata": {},
   "outputs": [],
   "source": [
    "f_fdd = f_S[mode_ind_fdd[:4]]\n",
    "err_f_fdd = (f_fdd - f_modes)/f_modes*100\n",
    "\n",
    "data = np.vstack((mode_num, f_modes, f_fdd)).T\n",
    "headers = ['Modo', 'Teoría [Hz]', 'FDD [Hz]']\n",
    "print_modes_dataframe(data=data, headers=headers, decimals=2)"
   ]
  },
  {
   "cell_type": "code",
   "execution_count": null,
   "metadata": {},
   "outputs": [],
   "source": [
    "# Formas modales\n",
    "modes_fdd = np.zeros(eigv.shape, dtype=complex)\n",
    "for idx in range(modes_fdd.shape[1]):\n",
    "    modes_fdd[:, idx] = u[mode_ind_fdd[idx], :, 0]\n",
    "\n",
    "# Normalización\n",
    "for col in range(modes_fdd.shape[1]):\n",
    "    modes_fdd[:,col] = modes_fdd[:,col]/max(abs(modes_fdd[:,col]))"
   ]
  },
  {
   "cell_type": "code",
   "execution_count": null,
   "metadata": {},
   "outputs": [],
   "source": [
    "MAC_fdd = get_MAC_matrix(eigv_norm, modes_fdd)\n",
    "plot_MAC(MAC_fdd, 'Greens', 'k')\n",
    "print('Max value off diagonal: {:.3f}'.format(get_max_off_diagonal(MAC_fdd)))"
   ]
  },
  {
   "cell_type": "markdown",
   "metadata": {},
   "source": [
    "## Enhanced Frequency Domain Decomposition (EFDD)"
   ]
  },
  {
   "cell_type": "markdown",
   "metadata": {},
   "source": [
    "### Identificación de las PSD modales "
   ]
  },
  {
   "cell_type": "code",
   "execution_count": null,
   "metadata": {},
   "outputs": [],
   "source": [
    "mac_th = 0.9\n",
    "total_mode_num = modes_fdd.shape[0]\n",
    "colors = plt.rcParams['axes.prop_cycle'].by_key()['color'][:total_mode_num]\n",
    "sdof_psd = np.zeros_like(s, dtype=complex)\n",
    "sdof_acf = np.zeros_like(s, dtype=complex)\n",
    "t_sdof_acf = np.linspace(0, sdof_psd.shape[0]*delta_t, sdof_psd.shape[0])\n",
    "\n",
    "fig_psd, ax_psd = plt.subplots()\n",
    "fig_decay, ax_decay = plt.subplots(total_mode_num//2, 2)\n",
    "ax_psd.grid(True, markevery=1)\n",
    "[ax_decay.flat[i].grid(True, markevery=1) for i in range(len(ax_decay.flat))]\n",
    "\n",
    "for mode in range(total_mode_num):\n",
    "    peak_idx = mode_ind_fdd[mode]\n",
    "    idx_low, idx_high = get_efdd_segment(u, peak_idx, mac_th)\n",
    "  \n",
    "    ax_psd.semilogy(f_S[idx_low:idx_high], abs(s[idx_low:idx_high, 0]), color=colors[mode])\n",
    "    \n",
    "    sdof_psd[idx_low:idx_high, mode] = s[idx_low:idx_high, 0]\n",
    "    sdof_acf[:, mode] = fftpack.ifft(sdof_psd[:, mode])\n",
    "    ax_decay.flat[mode].plot(t_sdof_acf[:len(t_sdof_acf)//2],\n",
    "                             sdof_acf[:len(t_sdof_acf)//2, mode].real, color=colors[mode])"
   ]
  },
  {
   "cell_type": "markdown",
   "metadata": {},
   "source": [
    "### Estimación de los amortiguamientos"
   ]
  },
  {
   "cell_type": "code",
   "execution_count": null,
   "metadata": {},
   "outputs": [],
   "source": [
    "xi_efdd = np.zeros(total_mode_num)\n",
    "R2 = np.zeros(total_mode_num)\n",
    "\n",
    "for mode in range(total_mode_num):\n",
    "    decay = sdof_acf[:, mode].real[:len(t_sdof_acf)//2]\n",
    "    xi_efdd[mode], R2[mode] = get_damp_from_decay(decay)"
   ]
  },
  {
   "cell_type": "code",
   "execution_count": null,
   "metadata": {},
   "outputs": [],
   "source": [
    "data = np.vstack((mode_num, Xi, xi_efdd)).T\n",
    "headers = ['Modo', 'Teoría', 'EFDD']\n",
    "print_modes_dataframe(data=data, headers=headers, decimals=3)"
   ]
  },
  {
   "cell_type": "markdown",
   "metadata": {},
   "source": [
    "### Estimación de las frecuencias"
   ]
  },
  {
   "cell_type": "code",
   "execution_count": null,
   "metadata": {},
   "outputs": [],
   "source": [
    "f_efdd = np.zeros(total_mode_num)\n",
    "\n",
    "fig_decay, ax_decay = plt.subplots(total_mode_num//2, 2)\n",
    "[ax_decay.flat[i].grid(True, markevery=1) for i in range(len(ax_decay.flat))]\n",
    "\n",
    "for mode in range(total_mode_num):\n",
    "    decay = sdof_acf[:, mode].real[:len(t_sdof_acf)//2]\n",
    "    f_efdd_damped = get_freq_from_signal(t_sdof_acf, sdof_acf[:, mode])\n",
    "    f_efdd[mode] = f_efdd_damped / np.sqrt(1-xi_efdd[mode]**2)\n",
    "    w_n_efdd = 2*np.pi*f_efdd[mode]\n",
    "    peak_ind = np.array([m for m in signal.argrelmax(abs(decay), order=1)]).flatten()\n",
    "\n",
    "    ax_decay.flat[mode].plot(t_sdof_acf[:len(sdof_acf)//2], decay, color=colors[mode])\n",
    "    ax_decay.flat[mode].plot(t_sdof_acf[peak_ind],\n",
    "                             decay[0]*np.exp(-xi_efdd[mode]*w_n_efdd*t_sdof_acf[peak_ind]),\n",
    "                             color=colors[mode])"
   ]
  },
  {
   "cell_type": "code",
   "execution_count": null,
   "metadata": {},
   "outputs": [],
   "source": [
    "err_f_efdd = (f_efdd - f_modes)/f_modes*100\n",
    "\n",
    "data = np.vstack((mode_num, f_modes, f_fdd, f_efdd)).T\n",
    "headers = ['Modo', 'Teoría [Hz]', 'FDD [Hz]', 'EFDD [Hz]']\n",
    "print_modes_dataframe(data=data, headers=headers, decimals=2)"
   ]
  },
  {
   "cell_type": "markdown",
   "metadata": {},
   "source": [
    "## Curve-fit Frequency Domain Decomposition (CFDD)"
   ]
  },
  {
   "cell_type": "markdown",
   "metadata": {},
   "source": [
    "### Estimación mediante modelo ARX"
   ]
  },
  {
   "cell_type": "markdown",
   "metadata": {},
   "source": [
    "#### Construcción de medio espectro positivo de la PSD modal"
   ]
  },
  {
   "cell_type": "code",
   "execution_count": null,
   "metadata": {},
   "outputs": [],
   "source": [
    "d_t = t_sdof_acf[1] - t_sdof_acf[0]\n",
    "f_P = np.fft.fftfreq(len(t_sdof_acf)//2, d=d_t)\n",
    "\n",
    "P = np.zeros((len(t_sdof_acf)//2, total_mode_num), dtype=complex)\n",
    "for mode in range(total_mode_num):\n",
    "    decay = sdof_acf[:, mode].real[:len(t_sdof_acf)//2]\n",
    "    P[:, mode] = np.fft.fft(decay) * d_t\n",
    "    plt.semilogy(f_P[:len(f_P)//2], abs(P[:len(f_P)//2, mode]))"
   ]
  },
  {
   "cell_type": "code",
   "execution_count": null,
   "metadata": {},
   "outputs": [],
   "source": [
    "f_P[abs(P[:len(f_P)//2, 0]).argmax()]"
   ]
  },
  {
   "cell_type": "markdown",
   "metadata": {},
   "source": [
    "#### Obtención de parametrós de modelo ARX"
   ]
  },
  {
   "cell_type": "code",
   "execution_count": null,
   "metadata": {},
   "outputs": [],
   "source": [
    "theta = np.zeros(5)\n",
    "B = np.zeros(P.shape[0])\n",
    "A = np.zeros((P.shape[0], len(theta)))\n",
    "pos_f_P = f_P[:len(f_P)//2]\n",
    "ff_P = np.hstack((pos_f_P, pos_f_P))\n",
    " \n",
    "f_cont = np.linspace(0, pos_f_P[-1], 4000)\n",
    "H = np.zeros((len(f_cont), P.shape[1]), dtype=complex)\n",
    "\n",
    "for mode in range(total_mode_num):\n",
    "    B = np.hstack((P[:len(pos_f_P), mode].real,\n",
    "                   P[:len(pos_f_P), mode].imag))\n",
    "    A = np.vstack((-B*np.exp(2*np.pi*ff_P*d_t),\n",
    "                   -B*np.exp(4*np.pi*ff_P*d_t),\n",
    "                   np.ones(len(B)),\n",
    "                   np.exp(2*np.pi*ff_P*d_t),\n",
    "                   np.exp(4*np.pi*ff_P*d_t))).T\n",
    "    \n",
    "    theta = np.linalg.lstsq(A, B, rcond=None)[0]\n",
    "    resid = np.linalg.lstsq(A, B, rcond=None)[1]\n",
    "    \n",
    "    H[:, mode] = (theta[2] +\n",
    "                  theta[3]*np.exp(2*np.pi*f_cont*d_t) +\n",
    "                  theta[4]*np.exp(4*np.pi*f_cont*d_t)\n",
    "                  ) / \\\n",
    "                 (1 +\n",
    "                  theta[0]*np.exp(2*np.pi*f_cont*d_t) +\n",
    "                  theta[1]*np.exp(4*np.pi*f_cont*d_t)\n",
    "                  )\n",
    "\n",
    "    plt.semilogy(f_P[:len(f_P)//2], abs(P[:len(f_P)//2, mode]), color=colors[mode])\n",
    "    plt.semilogy(f_cont, abs(H[:, mode]), color=colors[mode], linestyle='--')"
   ]
  },
  {
   "cell_type": "markdown",
   "metadata": {},
   "source": [
    "### Estimación mediante cuadrado de la FRF"
   ]
  },
  {
   "cell_type": "code",
   "execution_count": null,
   "metadata": {},
   "outputs": [],
   "source": [
    "mac_th = 0.9\n",
    "\n",
    "x = np.zeros(3, dtype=complex)\n",
    "f = f_S\n",
    "f_cfdd = np.zeros(total_mode_num)\n",
    "xi_cfdd = np.zeros(total_mode_num)\n",
    "\n",
    "f_hat = np.linspace(0, f[len(f)//2-1], 4000)\n",
    "w_hat = 2*np.pi*f_hat\n",
    "psd_hat = np.zeros((w_hat.size, total_mode_num), dtype=complex)\n",
    "\n",
    "for mode in range(total_mode_num):\n",
    "    peak_idx = mode_ind_fdd[mode]\n",
    "    idx_low, idx_high = get_efdd_segment(u, peak_idx, mac_th)\n",
    "    w = 2*np.pi*f[idx_low:idx_high]\n",
    "    B = s[idx_low:idx_high, mode]\n",
    "    A = np.vstack((w**4, -B*w**4, -B*w**2)).T    \n",
    "    x = np.linalg.lstsq(A, B, rcond=None)[0]\n",
    "    \n",
    "    w_n = 1/x[1]**0.25\n",
    "    f_cfdd[mode] = w_n/2/np.pi\n",
    "    c = np.sqrt(x[0]*w_n**4)\n",
    "    xi_cfdd[mode] = np.sqrt((x[2]*w_n**2 + 2)/4)\n",
    "    psd_hat[:, mode] = c**2 * w_hat**4 / \\\n",
    "                       ((w_n**2 - w_hat**2)**2 + 4*xi_cfdd[mode]**2 * w_n**2 * w_hat**2)\n",
    "    \n",
    "    plt.semilogy(f[idx_low:idx_high],\n",
    "                 abs(s[idx_low:idx_high, 0]),\n",
    "                 color=colors[mode])\n",
    "    plt.semilogy(f_hat[:f_hat.size//2],\n",
    "                 abs(psd_hat[:f_hat.size//2, mode]),\n",
    "                 color=colors[mode],\n",
    "                 linestyle='--')\n",
    "\n",
    "plt.ylim([abs(psd_hat[len(f_hat)//2, 1]), None])"
   ]
  },
  {
   "cell_type": "code",
   "execution_count": null,
   "metadata": {},
   "outputs": [],
   "source": [
    "err_f_cfdd = (f_cfdd - f_modes)/f_modes*100\n",
    "\n",
    "data = np.vstack((mode_num, f_modes, f_fdd, f_efdd, f_cfdd)).T\n",
    "headers = ['Modo', 'Teoría [Hz]', 'FDD [Hz]', 'EFDD [Hz]', 'CFDD [Hz]']\n",
    "print_modes_dataframe(data=data, headers=headers, decimals=2)"
   ]
  },
  {
   "cell_type": "code",
   "execution_count": null,
   "metadata": {},
   "outputs": [],
   "source": [
    "data = np.vstack((mode_num, Xi, xi_efdd, xi_cfdd)).T\n",
    "headers = ['Modo', 'Teoría', 'EFDD', 'CFDD']\n",
    "print_modes_dataframe(data=data, headers=headers, decimals=3)"
   ]
  },
  {
   "cell_type": "code",
   "execution_count": null,
   "metadata": {},
   "outputs": [],
   "source": []
  }
 ],
 "metadata": {
  "kernelspec": {
   "display_name": "Python 3",
   "language": "python",
   "name": "python3"
  },
  "language_info": {
   "codemirror_mode": {
    "name": "ipython",
    "version": 3
   },
   "file_extension": ".py",
   "mimetype": "text/x-python",
   "name": "python",
   "nbconvert_exporter": "python",
   "pygments_lexer": "ipython3",
   "version": "3.7.6"
  }
 },
 "nbformat": 4,
 "nbformat_minor": 2
}
