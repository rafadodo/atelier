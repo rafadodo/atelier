{
 "cells": [
  {
   "cell_type": "code",
   "execution_count": null,
   "metadata": {},
   "outputs": [],
   "source": [
    "import numpy as np\n",
    "\n",
    "from scipy import stats\n",
    "from scipy import signal\n",
    "from scipy import integrate\n",
    "from scipy import fftpack\n",
    "\n",
    "import matplotlib.pyplot as plt\n",
    "from matplotlib.animation import FuncAnimation\n",
    "\n",
    "from utils import *\n",
    "\n",
    "plt.style.use('seaborn-pastel')"
   ]
  },
  {
   "cell_type": "markdown",
   "metadata": {},
   "source": [
    "## Simulación de edificio de 4 pisos como masas puntuales con rigideces intermedias"
   ]
  },
  {
   "cell_type": "code",
   "execution_count": null,
   "metadata": {},
   "outputs": [],
   "source": [
    "# Edificio de 4 pisos de 20 toneladas cada uno, con rigideces laterales de 57MN/m entre si\n",
    "k = 57e6 # N/m\n",
    "m = 20e3 # kg\n",
    "\n",
    "k1, k2, k3, k4 = k, k, k, k\n",
    "m1, m2, m3, m4 = m, m, m, m\n",
    "\n",
    "# Matrices de rigidez y de masa\n",
    "K = np.array([[k1+k2, -k2, 0, 0],\n",
    "             [-k2, k2+k3, -k3, 0],\n",
    "             [0, -k3, k3+k4, -k4],\n",
    "             [0, 0, -k4, k4]])\n",
    "\n",
    "M = np.diag((m1, m2, m3, m4))\n",
    "\n",
    "print(('K = {}').format(K))\n",
    "print(('M = {}').format(M))"
   ]
  },
  {
   "cell_type": "code",
   "execution_count": null,
   "metadata": {},
   "outputs": [],
   "source": [
    "# Resuelvo autovectores y autovalores\n",
    "A = np.linalg.inv(M)@K\n",
    "lamb, eigv = np.linalg.eig(A)\n",
    "lamb = np.flip(lamb) # menor a mayor\n",
    "eigv = np.flip(eigv, axis=1)"
   ]
  },
  {
   "cell_type": "code",
   "execution_count": null,
   "metadata": {},
   "outputs": [],
   "source": [
    "# convierto velocidades angulares a frecuencias\n",
    "w_modes = np.sqrt(lamb)\n",
    "f_modes = w_modes/2/np.pi\n",
    "print(('f = {}').format(np.round(f_modes,3)))"
   ]
  },
  {
   "cell_type": "code",
   "execution_count": null,
   "metadata": {},
   "outputs": [],
   "source": [
    "# Matriz de autovectores (columnas)\n",
    "print(\"eigv:\")\n",
    "printMatrix(eigv)"
   ]
  },
  {
   "cell_type": "code",
   "execution_count": null,
   "metadata": {},
   "outputs": [],
   "source": [
    "# Matriz de masas modales\n",
    "M_modal = np.transpose(eigv)@M@eigv\n",
    "M_modal[M_modal<1e-3] = np.nan\n",
    "print(\"M_modal:\")\n",
    "printMatrix(M_modal)"
   ]
  },
  {
   "cell_type": "code",
   "execution_count": null,
   "metadata": {},
   "outputs": [],
   "source": [
    "# Matriz de rigideces modales\n",
    "K_modal = np.transpose(eigv)@K@eigv\n",
    "K_modal[K_modal<1e-3] = np.nan\n",
    "print(\"K_modal:\")\n",
    "printMatrix(K_modal)"
   ]
  },
  {
   "cell_type": "code",
   "execution_count": null,
   "metadata": {},
   "outputs": [],
   "source": [
    "# Verifico la validez de las matrices obteniendo las fercuencias modales nuevamente, ahora como w_i = sqrt(k_i/m_i)\n",
    "w_2 = np.zeros(len(w_modes))\n",
    "for mode in range(len(w_2)):\n",
    "    w_2[mode] = np.sqrt(K_modal[mode,mode]/M_modal[mode,mode])\n",
    "f_2 = w_2/np.pi/2\n",
    "print(('f2 = {}').format(f_2))"
   ]
  },
  {
   "cell_type": "code",
   "execution_count": null,
   "metadata": {},
   "outputs": [],
   "source": [
    "# Normalizo vectores modales\n",
    "eigv_norm = np.zeros(eigv.shape)\n",
    "for mode in range(len(w_modes)):\n",
    "    eigv_norm[:,mode] = eigv[:,mode]/max(abs(eigv[:,mode]))\n",
    "print(\"eigv_norm:\")\n",
    "printMatrix(eigv_norm)"
   ]
  },
  {
   "cell_type": "code",
   "execution_count": null,
   "metadata": {},
   "outputs": [],
   "source": [
    "# MAC teórico\n",
    "MAC_theo = get_MAC_matrix(eigv_norm, eigv_norm)\n",
    "plot_MAC(MAC_theo, 'Greens', 'k')\n",
    "print('Max value off diagonal: {:.3f}'.format(get_max_off_diagonal(MAC_theo)))"
   ]
  },
  {
   "cell_type": "code",
   "execution_count": null,
   "metadata": {},
   "outputs": [],
   "source": [
    "# Ploteo de modos\n",
    "fig, ax = plt.subplots()\n",
    "fig.add_axes()\n",
    "ax.set(xlim=[-1,3], ylim=[0,5], )\n",
    "ax.grid()\n",
    "ax.set_aspect('equal')\n",
    "eigv_plot = np.zeros((eigv.shape[1] + 1, eigv.shape[1]))\n",
    "eigv_plot[1:, :] = eigv\n",
    "\n",
    "ax.plot(np.zeros(eigv.shape[1] + 1),np.linspace(0,4,5), color='k', marker='o')\n",
    "for col in range(eigv.shape[1]):\n",
    "    ax.plot(eigv_plot[:,col],[0, 1, 2, 3, 4], marker='o', label='modo {}'.format(col+1))\n",
    "\n",
    "plt.legend(loc='best')\n",
    "plt.show()"
   ]
  },
  {
   "cell_type": "code",
   "execution_count": null,
   "metadata": {},
   "outputs": [],
   "source": [
    "# Animación de modos\n",
    "fig, ax = plt.subplots()\n",
    "fig.add_axes()\n",
    "ax.set(xlim=[-1,1], ylim=[0,5], )\n",
    "ax.grid()\n",
    "ax.set_aspect('equal')\n",
    "\n",
    "line1, = ax.plot([], [], lw=3)\n",
    "line2, = ax.plot([], [], lw=3)\n",
    "line3, = ax.plot([], [], lw=3)\n",
    "line4, = ax.plot([], [], lw=3)\n",
    "\n",
    "def init():\n",
    "    line1.set_data([], [])\n",
    "    line2.set_data([], [])\n",
    "    line3.set_data([], [])\n",
    "    line4.set_data([], [])\n",
    "    return line1, line2, line3, line4\n",
    "\n",
    "def animate(i):\n",
    "    y = np.linspace(0, 4, 5)\n",
    "    line1.set_data(eigv_plot[:,0]*np.sin(0.2*np.pi*i), y)\n",
    "    line2.set_data(eigv_plot[:,1]*np.sin(0.2*np.pi*i), y)\n",
    "    line3.set_data(eigv_plot[:,2]*np.sin(0.2*np.pi*i), y)\n",
    "    line4.set_data(eigv_plot[:,3]*np.sin(0.2*np.pi*i), y)\n",
    "    return line1, line2, line3, line4\n",
    "\n",
    "anim = FuncAnimation(fig, animate, init_func=init,\n",
    "                               frames=10, interval=200, blit=True)\n",
    "\n",
    "anim.save('sine_wave.gif', writer='imagemagick')"
   ]
  },
  {
   "cell_type": "markdown",
   "metadata": {},
   "source": [
    "## Simulación de aceleración con perfil de ruido blanco"
   ]
  },
  {
   "cell_type": "code",
   "execution_count": null,
   "metadata": {},
   "outputs": [],
   "source": [
    "# Aceleracion maxima en funcion del tiempo\n",
    "def max_accel(t,t_end):\n",
    "    a = 9.81*0.5*(1-np.cos(2*np.pi*t/t_end))\n",
    "    return a"
   ]
  },
  {
   "cell_type": "code",
   "execution_count": null,
   "metadata": {},
   "outputs": [],
   "source": [
    "# Simulacion de aceleracion en forma de ruido blanco bajo la curva de aceleracion maxima\n",
    "t_end = 4800\n",
    "delta_t = 1/119\n",
    "t = np.linspace(0, t_end, t_end/delta_t)\n",
    "\n",
    "R = np.random.normal(size=len(t)) # Vector de ruido gaussiano\n",
    "R_mean = np.mean(R)\n",
    "\n",
    "# accel = 0.1*(R - R_mean)*max_accel(t,t_end) # Aceleracion escalada con ruido\n",
    "accel = (R - R_mean) # Ruido puro\n",
    "max_accel_vec = max_accel(t,t_end) # Vector con aceleraciones puras"
   ]
  },
  {
   "cell_type": "code",
   "execution_count": null,
   "metadata": {},
   "outputs": [],
   "source": [
    "fig, ax = plt.subplots(figsize=(10, 5))\n",
    "fig.add_axes()\n",
    "ax.plot(t, accel, color='k', marker='')\n",
    "ax.plot(t, max_accel_vec, color='r')\n",
    "ax.grid(True, markevery=1)"
   ]
  },
  {
   "cell_type": "code",
   "execution_count": null,
   "metadata": {
    "scrolled": true
   },
   "outputs": [],
   "source": [
    "# PSD de aceleraciones en la base\n",
    "freq, psd = signal.welch(accel, \n",
    "                      fs=1./(delta_t), # sample rate\n",
    "                      window='hanning', # apply a Hanning window before taking the DFT\n",
    "                      nperseg=512, # compute periodograms of 256-long segments of x\n",
    "                      detrend='constant') # detrend x by subtracting the mean)\n",
    "plt.figure()\n",
    "plt.semilogy(freq[1:], psd[1:])\n",
    "plt.xlabel('frequency [Hz]')\n",
    "plt.ylabel('ASD [g²/Hz]')\n",
    "plt.show()\n",
    "print(len(psd))"
   ]
  },
  {
   "cell_type": "code",
   "execution_count": null,
   "metadata": {},
   "outputs": [],
   "source": [
    "print('ASD promedio: {:.4f} g²/Hz'.format(np.mean(psd)))\n",
    "print('Grms para ASD constante = ASD*f_max = {:.3f} g_rms'.format(np.mean(psd)*freq[-1]))"
   ]
  },
  {
   "cell_type": "code",
   "execution_count": null,
   "metadata": {},
   "outputs": [],
   "source": [
    "# calculo de g_rms por integracion\n",
    "area = integrate.simps(psd, freq)\n",
    "g_rms = np.sqrt(area)\n",
    "print('Grms = {:.3f} g_rms'.format(g_rms))"
   ]
  },
  {
   "cell_type": "code",
   "execution_count": null,
   "metadata": {
    "scrolled": true
   },
   "outputs": [],
   "source": [
    "Ug = np.copy(accel)\n",
    "Ug_fft_freq, t, Ug_spec = signal.spectrogram(Ug,\n",
    "                             fs=1./(delta_t),\n",
    "                             window='hanning',\n",
    "                             nperseg=4096,\n",
    "                             noverlap=2048,\n",
    "                             return_onesided=False,\n",
    "                             mode='complex')\n",
    "Ug_fft = np.mean(Ug_spec, axis=-1, dtype=complex)\n",
    "plt.figure()\n",
    "plt.semilogy(Ug_fft_freq[1:len(Ug_fft)//2], abs(Ug_fft[1:len(Ug_fft)//2]))\n",
    "plt.title('Aceleracion en la base')\n",
    "plt.xlabel('Frecuencia [Hz]')\n",
    "plt.ylabel('Espectro de aceleraciones [g/Hz]')\n",
    "plt.show()"
   ]
  },
  {
   "cell_type": "markdown",
   "metadata": {},
   "source": [
    "## Simulación de respuesta dinámica del edificio a ruido blanco su base"
   ]
  },
  {
   "cell_type": "code",
   "execution_count": null,
   "metadata": {},
   "outputs": [],
   "source": [
    "xi = 0.025 # fracción de amortiguamiento crítico\n",
    "r = np.array([1, 1, 1, 1]).reshape(4,1) # vector logico de desplazamientos respecto de la base\n",
    "print('xi = {}'.format(xi))\n",
    "print('r = {}^T'.format(r[:,0]))"
   ]
  },
  {
   "cell_type": "markdown",
   "metadata": {},
   "source": [
    "La solucion del espectro de desplazamientos para cada modo es\n",
    "<br/>\n",
    "<center> $Y(\\omega) = \\frac{\\frac{\\iota}{m_i} U_g(\\omega)}{\\omega_i^2 - \\omega^2 + 2i \\xi_i \\omega_i \\omega}$ </center>\n",
    "<br/>\n",
    "con\n",
    "<center> $\\iota = \\Phi^T M r$. </center>\n",
    "<br/>\n",
    "Y la aceleración es\n",
    "<center> $\\ddot{Y}(\\omega) = \\omega^2 Y(\\omega)$ </center>"
   ]
  },
  {
   "cell_type": "code",
   "execution_count": null,
   "metadata": {},
   "outputs": [],
   "source": [
    "# U_g = np.copy(psd)\n",
    "# w = 2*np.pi*freq\n",
    "U_g = np.copy(Ug_fft)\n",
    "w = 2*np.pi*Ug_fft_freq"
   ]
  },
  {
   "cell_type": "code",
   "execution_count": null,
   "metadata": {},
   "outputs": [],
   "source": [
    "I = np.transpose(eigv)@M@r\n",
    "print(I)\n",
    "m_modal = M_modal.diagonal() \n",
    "Y = np.zeros((len(w), len(w_modes)), dtype=complex)\n",
    "ddotY = np.copy(Y) \n",
    "for mode in range(Y.shape[1]):\n",
    "    C = I[mode] / (m_modal[mode]*(w_modes[mode]**2 - w**2 + 2*1j*xi*w_modes[mode]*w))\n",
    "    Y[:,mode] = C*U_g\n",
    "    ddotY[:,mode] = (w**2)*Y[:,mode]"
   ]
  },
  {
   "cell_type": "code",
   "execution_count": null,
   "metadata": {},
   "outputs": [],
   "source": [
    "f = w/2/np.pi\n",
    "plt.figure()\n",
    "lgnd  = ['modo {}'.format(mode+1) for mode in range(Y.shape[1])]\n",
    "plt.semilogy(f, abs(Y))\n",
    "plt.title('Desplazamientos modales')\n",
    "plt.xlabel('Frequency [Hz]')\n",
    "plt.ylabel('Espectro de desplazamientos [m²/Hz]')\n",
    "plt.legend(lgnd)\n",
    "plt.show()"
   ]
  },
  {
   "cell_type": "code",
   "execution_count": null,
   "metadata": {},
   "outputs": [],
   "source": [
    "plt.figure()\n",
    "lgnd  = ['modo {}'.format(mode+1) for mode in range(Y.shape[1])]\n",
    "plt.semilogy(f, abs(ddotY)/9.81)\n",
    "plt.title('Aceleraciones modales')\n",
    "plt.xlabel('Frequency [Hz]')\n",
    "plt.ylabel('Espectro de Aceleraciones [g/Hz]')\n",
    "plt.legend(lgnd)\n",
    "plt.show()\n",
    "print(np.max(abs(ddotY))/9.81)"
   ]
  },
  {
   "cell_type": "code",
   "execution_count": null,
   "metadata": {},
   "outputs": [],
   "source": [
    "freq_max = [abs(f[i]) for i in ddotY.argmax(axis=0)]\n",
    "print(('freqs from max response = {}').format(np.round(freq_max, 3)))\n",
    "print('errors in % = {}'.format(np.round(100*(f_modes - freq_max) / f_modes, 2)))"
   ]
  },
  {
   "cell_type": "markdown",
   "metadata": {},
   "source": [
    "### Respuesta en cada piso"
   ]
  },
  {
   "cell_type": "code",
   "execution_count": null,
   "metadata": {},
   "outputs": [],
   "source": [
    "# Espectro de respuesta en frecuencia\n",
    "X = np.copy(Y)\n",
    "X = (eigv @ Y.T).T # Desplazamientos en los grados de libertad\n",
    "ddotX = (w**2 * X.T).T # Aceleraciones\n",
    "\n",
    "# Respuesta en el tiempo\n",
    "X_time = fftpack.ifft(X, axis=0) # Obtengo respuestas en el tiempo mediante transformada inversa"
   ]
  },
  {
   "cell_type": "code",
   "execution_count": null,
   "metadata": {},
   "outputs": [],
   "source": [
    "plt.figure()\n",
    "lgnd  = ['piso {}'.format(mode+1) for mode in range(X.shape[1])]\n",
    "plt.semilogy(f, abs(X))\n",
    "plt.title('Desplazamientos por piso')\n",
    "plt.xlabel('Frequency [Hz]')\n",
    "plt.ylabel('Espectro de desplazamientos [m²/Hz]')\n",
    "plt.legend(lgnd)\n",
    "plt.show()"
   ]
  },
  {
   "cell_type": "markdown",
   "metadata": {},
   "source": [
    "## Peak-picking"
   ]
  },
  {
   "cell_type": "code",
   "execution_count": null,
   "metadata": {},
   "outputs": [],
   "source": [
    "X_psd = np.copy(X)\n",
    "for piso in range(X.shape[1]):\n",
    "    X_psd[:, piso] = X[:, piso] * np.conj(X[:, piso])"
   ]
  },
  {
   "cell_type": "code",
   "execution_count": null,
   "metadata": {},
   "outputs": [],
   "source": [
    "# Average Normalized PSD (ANPSD)\n",
    "ANPSD = np.zeros(X.shape[0], dtype=complex)\n",
    "NPSD = np.copy(X_psd)\n",
    "for piso in range(X.shape[1]):\n",
    "    NPSD[:, piso] = X_psd[:, piso] / np.sum(X_psd[:, piso])\n",
    "ANPSD = np.sum(NPSD, axis=1)\n",
    "mode_ind = np.array([m for m in signal.argrelmax(ANPSD, order=50)]).flatten()"
   ]
  },
  {
   "cell_type": "code",
   "execution_count": null,
   "metadata": {
    "scrolled": false
   },
   "outputs": [],
   "source": [
    "plt.figure()\n",
    "plt.semilogy(f, abs(ANPSD), label='ANPSD')\n",
    "plt.scatter(f[mode_ind], abs(ANPSD[mode_ind]), label='modes', color='r')\n",
    "plt.title('Average Normalized PSD')\n",
    "plt.ylim([1E-6, 10])\n",
    "plt.xlabel('Frequency [Hz]')\n",
    "plt.ylabel('Espectro de desplazamientos [m²/Hz]')\n",
    "plt.legend()\n",
    "plt.show()"
   ]
  },
  {
   "cell_type": "code",
   "execution_count": null,
   "metadata": {
    "scrolled": true
   },
   "outputs": [],
   "source": [
    "print('Frecuencias modales segun Peak-picking')\n",
    "for mode in range(len(w_modes)):\n",
    "    idx = mode_ind[mode]\n",
    "    print('f_{} = {:.3f} Hz ({:.2f}% error)'.format(mode,\n",
    "                                             f[idx],\n",
    "                                             100*(f[idx] - f_modes[mode])/ f_modes[mode]))"
   ]
  },
  {
   "cell_type": "markdown",
   "metadata": {},
   "source": [
    "### Formas modales"
   ]
  },
  {
   "cell_type": "code",
   "execution_count": null,
   "metadata": {},
   "outputs": [],
   "source": [
    "modes_pp = np.copy(eigv) \n",
    "for mode in range(modes_pp.shape[1]):\n",
    "    idx = mode_ind[mode]\n",
    "    for dof in range(X.shape[1]):\n",
    "        cross_power = X[idx, dof] * np.conj(X[idx, 0])\n",
    "        ang = abs(np.angle(cross_power, deg=True))\n",
    "        if 0 <= ang <= 60:\n",
    "            sign = 1\n",
    "        elif 120 <= ang <=180:\n",
    "            sign = -1\n",
    "        else:\n",
    "            sign = 0\n",
    "        modes_pp[dof, mode] = sign * abs(X[idx, dof]) / abs(X[idx, 0])\n",
    "        \n",
    "# Normalizacion\n",
    "for col in range(modes_pp.shape[1]):\n",
    "    modes_pp[:,col] = modes_pp[:,col]/max(abs(modes_pp[:,col]))\n",
    "printMatrix(modes_pp)"
   ]
  },
  {
   "cell_type": "code",
   "execution_count": null,
   "metadata": {},
   "outputs": [],
   "source": [
    "# MAC para Peak-picking\n",
    "MAC_pp = get_MAC_matrix(eigv_norm, modes_pp)\n",
    "plot_MAC(MAC_pp, 'Greens', 'k')\n",
    "print('Max value off diagonal: {:.3f}'.format(get_max_off_diagonal(MAC_pp)))"
   ]
  },
  {
   "cell_type": "code",
   "execution_count": null,
   "metadata": {},
   "outputs": [],
   "source": [
    "# Ploteo de modos\n",
    "fig, ax = plt.subplots()\n",
    "fig.add_axes()\n",
    "ax.set(xlim=[-1,3], ylim=[0,5])\n",
    "ax.grid()\n",
    "ax.set_aspect('equal')\n",
    "modes_plot = np.zeros((modes_pp.shape[1] + 1, modes_pp.shape[1]))\n",
    "modes_plot[1:, :] = modes_pp\n",
    "\n",
    "ax.plot(np.zeros(modes_pp.shape[1] + 1),np.linspace(0,4,5), color='k', marker='o')\n",
    "for col in range(modes_pp.shape[1]):\n",
    "    ax.plot(modes_plot[:,col],[0, 1, 2, 3, 4], marker='o', label='modo {}'.format(col+1))\n",
    "\n",
    "plt.legend(loc='best')\n",
    "plt.show()"
   ]
  },
  {
   "cell_type": "markdown",
   "metadata": {},
   "source": [
    "## Frequency Domain Decomposition"
   ]
  },
  {
   "cell_type": "code",
   "execution_count": null,
   "metadata": {},
   "outputs": [],
   "source": [
    "# Matriz de densidades espectrales cruzadas de la respuesta.\n",
    "csd_nperseg = 4096\n",
    "S_xx = np.zeros((X_time.shape[1], X_time.shape[1], csd_nperseg))\n",
    "for piso1 in range(X.shape[1]):\n",
    "    for piso2 in range (X.shape[1]):\n",
    "        ff, S_xx[piso1, piso2, :] = signal.csd(X_time[:, piso1], X_time[:, piso2],\n",
    "                                               fs=1./(delta_t),\n",
    "                                               window='hanning',\n",
    "                                               nperseg=csd_nperseg,\n",
    "                                               detrend='constant',\n",
    "                                               axis=0)"
   ]
  },
  {
   "cell_type": "code",
   "execution_count": null,
   "metadata": {},
   "outputs": [],
   "source": [
    "u = np.zeros(S_xx.shape)\n",
    "s = np.zeros((S_xx.shape[0], S_xx.shape[2]))\n",
    "vh = np.zeros(S_xx.shape)\n",
    "for freq_idx in range(S_xx.shape[2]):\n",
    "    u[:, :, freq_idx], s[:, freq_idx], vh[:, :, freq_idx] = np.linalg.svd(S_xx[:, :, freq_idx])\n",
    "    \n",
    "# Maximos del primer valor singular\n",
    "mode_ind = np.array([m for m in signal.argrelmax(s[0,:], order=60)]).flatten()"
   ]
  },
  {
   "cell_type": "code",
   "execution_count": null,
   "metadata": {},
   "outputs": [],
   "source": [
    "plt.semilogy(ff[:len(ff)//2], s[0, :len(ff)//2])\n",
    "plt.semilogy(ff[:len(ff)//2], s[1, :len(ff)//2])\n",
    "plt.semilogy(ff[:len(ff)//2], s[2, :len(ff)//2])\n",
    "plt.semilogy(ff[:len(ff)//2], s[3, :len(ff)//2])\n",
    "plt.ylim([np.min(s[0, :len(ff)//2]), np.max(s[0, :len(ff)//2])])\n",
    "plt.scatter(ff[mode_ind[:len(mode_ind)//2]], abs(s[0, mode_ind[:len(mode_ind)//2]]), color='r')"
   ]
  },
  {
   "cell_type": "code",
   "execution_count": null,
   "metadata": {},
   "outputs": [],
   "source": [
    "ff[mode_ind[:4]]"
   ]
  },
  {
   "cell_type": "code",
   "execution_count": null,
   "metadata": {},
   "outputs": [],
   "source": [
    "# Formas modales\n",
    "modes_fdd = np.copy(eigv)\n",
    "for idx in range(modes_fdd.shape[1]):\n",
    "    modes_fdd[:, idx] = u[:, 0, mode_ind[idx]]\n",
    "\n",
    "# Normalizo\n",
    "for col in range(modes_fdd.shape[1]):\n",
    "    modes_fdd[:,col] = modes_fdd[:,col]/max(abs(modes_fdd[:,col]))\n",
    "printMatrix(modes_fdd)"
   ]
  },
  {
   "cell_type": "code",
   "execution_count": null,
   "metadata": {},
   "outputs": [],
   "source": [
    "# MAC para FDD\n",
    "MAC_fdd = get_MAC_matrix(eigv_norm, modes_fdd)\n",
    "plot_MAC(MAC_fdd, 'Greens', 'k')\n",
    "print('Max value off diagonal: {:.3f}'.format(get_max_off_diagonal(MAC_fdd)))"
   ]
  },
  {
   "cell_type": "code",
   "execution_count": null,
   "metadata": {},
   "outputs": [],
   "source": [
    "# Ploteo de modos\n",
    "fig, ax = plt.subplots()\n",
    "fig.add_axes()\n",
    "ax.set(xlim=[-1,3], ylim=[0,5])\n",
    "ax.grid()\n",
    "ax.set_aspect('equal')\n",
    "modes_plot = np.zeros((modes_fdd.shape[1] + 1, modes_fdd.shape[1]))\n",
    "modes_plot[1:, :] = modes_fdd\n",
    "\n",
    "ax.plot(np.zeros(modes_fdd.shape[1] + 1),np.linspace(0,4,5), color='k', marker='o')\n",
    "for col in range(modes_fdd.shape[1]):\n",
    "    ax.plot(modes_plot[:,col],[0, 1, 2, 3, 4], marker='o', label='modo {}'.format(col+1))\n",
    "\n",
    "plt.legend(loc='best')\n",
    "plt.show()"
   ]
  }
 ],
 "metadata": {
  "kernelspec": {
   "display_name": "Python 3",
   "language": "python",
   "name": "python3"
  },
  "language_info": {
   "codemirror_mode": {
    "name": "ipython",
    "version": 3
   },
   "file_extension": ".py",
   "mimetype": "text/x-python",
   "name": "python",
   "nbconvert_exporter": "python",
   "pygments_lexer": "ipython3",
   "version": "3.6.9"
  }
 },
 "nbformat": 4,
 "nbformat_minor": 2
}
