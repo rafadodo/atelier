{
 "cells": [
  {
   "cell_type": "code",
   "execution_count": null,
   "metadata": {},
   "outputs": [],
   "source": [
    "import numpy as np\n",
    "\n",
    "from scipy import signal\n",
    "from scipy import integrate\n",
    "from scipy import fftpack\n",
    "\n",
    "import matplotlib.pyplot as plt\n",
    "\n",
    "from utils import *\n",
    "\n",
    "plt.style.use('seaborn-pastel')"
   ]
  },
  {
   "cell_type": "markdown",
   "metadata": {},
   "source": [
    "## Simulación de edificio de 4 pisos como masas puntuales con rigideces intermedias"
   ]
  },
  {
   "cell_type": "code",
   "execution_count": null,
   "metadata": {},
   "outputs": [],
   "source": [
    "# Edificio de 4 pisos de 20 toneladas cada uno, con rigideces laterales de 57MN/m entre si\n",
    "k = 57e6 # N/m\n",
    "m = 20e3 # kg\n",
    "\n",
    "k1, k2, k3, k4 = k, k, k, k\n",
    "m1, m2, m3, m4 = m, m, m, m\n",
    "\n",
    "# Matrices de rigidez y de masa\n",
    "K = np.array([[k1+k2, -k2, 0, 0],\n",
    "             [-k2, k2+k3, -k3, 0],\n",
    "             [0, -k3, k3+k4, -k4],\n",
    "             [0, 0, -k4, k4]])\n",
    "\n",
    "M = np.diag((m1, m2, m3, m4))\n",
    "\n",
    "print(('K = {}').format(K))\n",
    "print(('M = {}').format(M))"
   ]
  },
  {
   "cell_type": "code",
   "execution_count": null,
   "metadata": {},
   "outputs": [],
   "source": [
    "# Resuelvo autovectores y autovalores\n",
    "A = np.linalg.inv(M)@K\n",
    "lamb, eigv = np.linalg.eig(A)\n",
    "lamb = np.flip(lamb) # menor a mayor\n",
    "eigv = np.flip(eigv, axis=1)"
   ]
  },
  {
   "cell_type": "code",
   "execution_count": null,
   "metadata": {},
   "outputs": [],
   "source": [
    "# convierto velocidades angulares a frecuencias\n",
    "w_modes = np.sqrt(lamb)\n",
    "f_modes = w_modes/2/np.pi\n",
    "print(('f = {}').format(np.round(f_modes,3)))"
   ]
  },
  {
   "cell_type": "code",
   "execution_count": null,
   "metadata": {},
   "outputs": [],
   "source": [
    "# Matriz de autovectores (columnas)\n",
    "print(\"eigv:\")\n",
    "printMatrix(eigv)"
   ]
  },
  {
   "cell_type": "code",
   "execution_count": null,
   "metadata": {},
   "outputs": [],
   "source": [
    "# Matriz de masas modales\n",
    "M_modal = np.transpose(eigv)@M@eigv\n",
    "M_modal[M_modal<1e-3] = np.nan\n",
    "print(\"M_modal:\")\n",
    "printMatrix(M_modal)"
   ]
  },
  {
   "cell_type": "code",
   "execution_count": null,
   "metadata": {},
   "outputs": [],
   "source": [
    "# Matriz de rigideces modales\n",
    "K_modal = np.transpose(eigv)@K@eigv\n",
    "K_modal[K_modal<1e-3] = np.nan\n",
    "print(\"K_modal:\")\n",
    "printMatrix(K_modal)"
   ]
  },
  {
   "cell_type": "code",
   "execution_count": null,
   "metadata": {},
   "outputs": [],
   "source": [
    "# Verifico la validez de las matrices obteniendo las fercuencias modales nuevamente, ahora como w_i = sqrt(k_i/m_i)\n",
    "w_2 = np.zeros(len(w_modes))\n",
    "for mode in range(len(w_2)):\n",
    "    w_2[mode] = np.sqrt(K_modal[mode,mode]/M_modal[mode,mode])\n",
    "f_2 = w_2/np.pi/2\n",
    "print(('f2 = {}').format(f_2))"
   ]
  },
  {
   "cell_type": "code",
   "execution_count": null,
   "metadata": {},
   "outputs": [],
   "source": [
    "# Normalizo vectores modales\n",
    "eigv_norm = np.zeros(eigv.shape)\n",
    "for mode in range(len(w_modes)):\n",
    "    eigv_norm[:,mode] = eigv[:,mode]/max(abs(eigv[:,mode]))"
   ]
  },
  {
   "cell_type": "code",
   "execution_count": null,
   "metadata": {},
   "outputs": [],
   "source": [
    "# MAC teórico\n",
    "MAC_theo = get_MAC_matrix(eigv_norm, eigv_norm)\n",
    "plot_MAC(MAC_theo, 'Greens', 'k')\n",
    "print('Max value off diagonal: {:.3f}'.format(get_max_off_diagonal(MAC_theo)))"
   ]
  },
  {
   "cell_type": "code",
   "execution_count": null,
   "metadata": {},
   "outputs": [],
   "source": [
    "# Ploteo de modos\n",
    "plot_modes(eigv_norm)"
   ]
  },
  {
   "cell_type": "markdown",
   "metadata": {},
   "source": [
    "## Simulación de aceleración con perfil de ruido blanco"
   ]
  },
  {
   "cell_type": "code",
   "execution_count": null,
   "metadata": {},
   "outputs": [],
   "source": [
    "# Aceleracion maxima en funcion del tiempo\n",
    "def max_accel(t,t_end):\n",
    "    a = 0.5*(1-np.cos(2*np.pi*t/t_end))\n",
    "    return a"
   ]
  },
  {
   "cell_type": "code",
   "execution_count": null,
   "metadata": {},
   "outputs": [],
   "source": [
    "# Simulacion de aceleracion en forma de ruido blanco bajo la curva de aceleracion maxima\n",
    "t_end = 2400\n",
    "delta_t = 1/119\n",
    "t = np.linspace(0, t_end, int(t_end/delta_t))\n",
    "\n",
    "R = 0.1*np.random.normal(size=len(t)) # Vector de ruido gaussiano\n",
    "R_mean = np.mean(R)\n",
    "\n",
    "accel = (R - R_mean)*max_accel(t,t_end) # Aceleracion escalada con ruido\n",
    "max_accel_vec = max_accel(t,t_end) # Vector con aceleraciones puras"
   ]
  },
  {
   "cell_type": "code",
   "execution_count": null,
   "metadata": {},
   "outputs": [],
   "source": [
    "fig, ax = plt.subplots(figsize=(8, 4))\n",
    "fig.add_axes()\n",
    "ax.plot(t, accel, color='k', marker='')\n",
    "ax.plot(t, max_accel_vec, color='r')\n",
    "ax.grid(True, markevery=1)"
   ]
  },
  {
   "cell_type": "code",
   "execution_count": null,
   "metadata": {
    "scrolled": true
   },
   "outputs": [],
   "source": [
    "# PSD de aceleraciones en la base\n",
    "nperseg=450\n",
    "freq, psd = signal.welch(accel, \n",
    "                      fs=1./(delta_t), # sample rate\n",
    "                      window='hamming', # apply a Hanning window before taking the DFT\n",
    "                      nperseg=nperseg, # compute periodograms of 256-long segments of x\n",
    "                      noverlap=nperseg//2,\n",
    "                      detrend='constant',\n",
    "                      return_onesided=False) #'constant') # detrend x by subtracting the mean)\n",
    "plt.figure()\n",
    "plt.semilogy(freq[1:len(psd)//2], psd[1:len(psd)//2])\n",
    "plt.ylim([np.min(psd[1:]), np.max(psd[1:])])\n",
    "plt.xlabel('frequency [Hz]')\n",
    "plt.ylabel('ASD [g²/Hz]')\n",
    "plt.grid()\n",
    "plt.show()\n",
    "print(len(psd))"
   ]
  },
  {
   "cell_type": "code",
   "execution_count": null,
   "metadata": {},
   "outputs": [],
   "source": [
    "print('ASD promedio: {:.4f} g²/Hz'.format(np.mean(psd)))\n",
    "print('Grms para ASD constante = ASD*f_max = {:.3f} g_rms'.format(np.mean(psd)*freq[-1]))"
   ]
  },
  {
   "cell_type": "code",
   "execution_count": null,
   "metadata": {},
   "outputs": [],
   "source": [
    "# calculo de g_rms por integracion\n",
    "area = integrate.simps(psd, freq)\n",
    "g_rms = np.sqrt(area)\n",
    "print('Grms = {:.3f} g_rms'.format(g_rms))"
   ]
  },
  {
   "cell_type": "code",
   "execution_count": null,
   "metadata": {},
   "outputs": [],
   "source": [
    "Ug_fft_freq, t, Ug_spec = signal.spectrogram(accel,\n",
    "                             fs=1./(delta_t),\n",
    "                             window='hanning',\n",
    "                             nperseg=1024,\n",
    "                             noverlap=256,\n",
    "                             return_onesided=False,\n",
    "                             mode='complex')\n",
    "\n",
    "Ug_fft = np.mean(Ug_spec, axis=-1, dtype=complex)\n",
    "\n",
    "plt.figure()\n",
    "plt.semilogy(Ug_fft_freq[1:len(Ug_fft)//2], abs(Ug_fft[1:len(Ug_fft)//2]))\n",
    "plt.title('Aceleracion en la base')\n",
    "plt.xlabel('Frecuencia [Hz]')\n",
    "plt.ylabel('Espectro de aceleraciones [g/Hz]')"
   ]
  },
  {
   "cell_type": "markdown",
   "metadata": {},
   "source": [
    "## Simulación de respuesta dinámica del edificio a ruido blanco su base"
   ]
  },
  {
   "cell_type": "code",
   "execution_count": null,
   "metadata": {},
   "outputs": [],
   "source": [
    "xi = 0.025 # fracción de amortiguamiento crítico\n",
    "Xi = xi*np.ones(eigv_norm.shape[1])\n",
    "r = np.array([1, 1, 1, 1]).reshape(4,1) # vector logico de desplazamientos respecto de la base\n",
    "print('xi = {}'.format(Xi[:]))\n",
    "print('r = {}^T'.format(r[:,0]))"
   ]
  },
  {
   "cell_type": "markdown",
   "metadata": {},
   "source": [
    "La solucion del espectro de desplazamientos para cada modo es\n",
    "<br/>\n",
    "<center> $Y(\\omega) = \\frac{\\frac{\\iota}{m_i} U_g(\\omega)}{\\omega_i^2 - \\omega^2 + 2i \\xi_i \\omega_i \\omega}$ </center>\n",
    "<br/>\n",
    "con\n",
    "<center> $\\iota = \\Phi^T M r$. </center>\n",
    "<br/>\n",
    "Y la aceleración es\n",
    "<center> $\\ddot{Y}(\\omega) = \\omega^2 Y(\\omega)$ </center>"
   ]
  },
  {
   "cell_type": "code",
   "execution_count": null,
   "metadata": {},
   "outputs": [],
   "source": [
    "U_g = np.copy(psd)\n",
    "w = 2*np.pi*Ug_fft_freq"
   ]
  },
  {
   "cell_type": "code",
   "execution_count": null,
   "metadata": {},
   "outputs": [],
   "source": [
    "I = np.transpose(eigv)@M@r\n",
    "print(I)\n",
    "m_modal = M_modal.diagonal() \n",
    "Y = np.zeros((len(w), len(w_modes)), dtype=complex)\n",
    "ddotY = np.copy(Y) \n",
    "for mode in range(Y.shape[1]):\n",
    "    C = I[mode] / (m_modal[mode]*(w_modes[mode]**2 - w**2 + 2*1j*Xi[mode]*w_modes[mode]*w))\n",
    "    Y[:,mode] = C*Ug_fft\n",
    "    ddotY[:,mode] = -(w**2)*Y[:,mode]"
   ]
  },
  {
   "cell_type": "code",
   "execution_count": null,
   "metadata": {},
   "outputs": [],
   "source": [
    "f = w/2/np.pi\n",
    "plt.figure()\n",
    "lgnd  = ['modo {}'.format(mode+1) for mode in range(Y.shape[1])]\n",
    "plt.semilogy(f[:len(f)//2], abs(Y[:len(f)//2]))\n",
    "plt.title('Desplazamientos modales')\n",
    "plt.xlabel('Frequency [Hz]')\n",
    "plt.ylabel('Espectro de desplazamientos [m²/Hz]')\n",
    "plt.xlim([0, 20])\n",
    "plt.ylim([1E-8, 1E-3])\n",
    "plt.legend(lgnd)\n",
    "plt.show()"
   ]
  },
  {
   "cell_type": "code",
   "execution_count": null,
   "metadata": {},
   "outputs": [],
   "source": [
    "plt.figure()\n",
    "lgnd  = ['modo {}'.format(mode+1) for mode in range(Y.shape[1])]\n",
    "plt.semilogy(f[:len(f)//2], abs(ddotY[:len(f)//2]))\n",
    "plt.title('Aceleraciones modales')\n",
    "plt.xlabel('Frequency [Hz]')\n",
    "plt.ylabel('Espectro de Aceleraciones [g/Hz]')\n",
    "plt.xlim([0, 20])\n",
    "plt.ylim([1E-7, 1E-1])\n",
    "plt.legend(lgnd)\n",
    "plt.show()\n",
    "print(np.max(abs(ddotY)))"
   ]
  },
  {
   "cell_type": "code",
   "execution_count": null,
   "metadata": {},
   "outputs": [],
   "source": [
    "freq_max = [abs(f[i]) for i in ddotY.argmax(axis=0)]\n",
    "print(('freqs from max response = {}').format(np.round(freq_max, 3)))\n",
    "print('errors in % = {}'.format(np.round(100*(f_modes - freq_max) / f_modes, 2)))"
   ]
  },
  {
   "cell_type": "markdown",
   "metadata": {},
   "source": [
    "### Respuesta en cada piso"
   ]
  },
  {
   "cell_type": "code",
   "execution_count": null,
   "metadata": {},
   "outputs": [],
   "source": [
    "# Espectro de respuesta en frecuencia\n",
    "X = np.copy(Y)\n",
    "X = (eigv @ Y.T).T # Desplazamientos en los grados de libertad\n",
    "ddotX = -(w**2 * X.T).T # Aceleraciones"
   ]
  },
  {
   "cell_type": "code",
   "execution_count": null,
   "metadata": {},
   "outputs": [],
   "source": [
    "plt.figure()\n",
    "lgnd  = ['piso {}'.format(mode+1) for mode in range(X.shape[1])]\n",
    "plt.semilogy(f[:len(f)//2], abs(X[:len(f)//2,:]))\n",
    "plt.title('Desplazamientos por piso')\n",
    "plt.xlabel('Frequency [Hz]')\n",
    "plt.ylabel('Espectro de desplazamientos [m²/Hz]')\n",
    "# plt.xlim([0, 20])\n",
    "# plt.ylim([1E-8, 1E-4])\n",
    "plt.legend(lgnd)\n",
    "plt.show()"
   ]
  },
  {
   "cell_type": "code",
   "execution_count": null,
   "metadata": {},
   "outputs": [],
   "source": [
    "plt.figure()\n",
    "lgnd  = ['piso {}'.format(mode+1) for mode in range(X.shape[1])]\n",
    "plt.semilogy(f[:len(f)//2], abs(ddotX[:len(f)//2,:]))\n",
    "plt.title('Desplazamientos por piso')\n",
    "plt.xlabel('Frequency [Hz]')\n",
    "plt.ylabel('Espectro de desplazamientos [m²/Hz]')\n",
    "plt.xlim([0, 20])\n",
    "plt.ylim([1E-5, 1E-1])\n",
    "plt.legend(lgnd)\n",
    "plt.show()"
   ]
  },
  {
   "cell_type": "markdown",
   "metadata": {},
   "source": [
    "## Peak-picking"
   ]
  },
  {
   "cell_type": "code",
   "execution_count": null,
   "metadata": {},
   "outputs": [],
   "source": [
    "X_psd = np.copy(X)\n",
    "for piso in range(X.shape[1]):\n",
    "    X_psd[:, piso] = X[:, piso] * np.conj(X[:, piso])"
   ]
  },
  {
   "cell_type": "code",
   "execution_count": null,
   "metadata": {},
   "outputs": [],
   "source": [
    "# Average Normalized PSD (ANPSD)\n",
    "ANPSD = np.zeros(X.shape[0], dtype=complex)\n",
    "NPSD = np.copy(X_psd)\n",
    "for piso in range(X.shape[1]):\n",
    "    NPSD[:, piso] = X_psd[:, piso] / np.sum(X_psd[:, piso])\n",
    "ANPSD = np.sum(NPSD, axis=1)\n",
    "mode_ind_pp = np.array([m for m in signal.argrelmax(ANPSD, order=15)]).flatten()"
   ]
  },
  {
   "cell_type": "code",
   "execution_count": null,
   "metadata": {
    "scrolled": false
   },
   "outputs": [],
   "source": [
    "plt.figure()\n",
    "plt.semilogy(f, abs(ANPSD), label='ANPSD')\n",
    "plt.scatter(f[mode_ind_pp], abs(ANPSD[mode_ind_pp]), label='modes', color='r')\n",
    "plt.title('Average Normalized PSD')\n",
    "plt.xlim([-1, 30])\n",
    "plt.ylim([1E-5, 10])\n",
    "plt.xlabel('Frequency [Hz]')\n",
    "plt.ylabel('Espectro de desplazamientos [m²/Hz]')\n",
    "plt.legend()\n",
    "plt.show()"
   ]
  },
  {
   "cell_type": "code",
   "execution_count": null,
   "metadata": {
    "scrolled": true
   },
   "outputs": [],
   "source": [
    "print('Frecuencias modales segun Peak-picking')\n",
    "for mode in range(len(w_modes)):\n",
    "    idx = mode_ind_pp[mode]\n",
    "    print('f_{} = {:.3f} Hz ({:.2f}% error)'.format(mode,\n",
    "                                             f[idx],\n",
    "                                             100*(f[idx] - f_modes[mode])/ f_modes[mode]))"
   ]
  },
  {
   "cell_type": "markdown",
   "metadata": {},
   "source": [
    "### Formas modales"
   ]
  },
  {
   "cell_type": "code",
   "execution_count": null,
   "metadata": {},
   "outputs": [],
   "source": [
    "modes_pp = np.copy(eigv) \n",
    "for mode in range(modes_pp.shape[1]):\n",
    "    idx = mode_ind_pp[mode]\n",
    "    for dof in range(X.shape[1]):\n",
    "        cross_power = X[idx, dof] * np.conj(X[idx, 0])\n",
    "        ang = abs(np.angle(cross_power, deg=True))\n",
    "        if 0 <= ang <= 60:\n",
    "            sign = 1\n",
    "        elif 120 <= ang <=180:\n",
    "            sign = -1\n",
    "        else:\n",
    "            sign = 0\n",
    "        modes_pp[dof, mode] = sign * abs(X[idx, dof]) / abs(X[idx, 0])\n",
    "        \n",
    "# Normalizacion\n",
    "for col in range(modes_pp.shape[1]):\n",
    "    modes_pp[:,col] = modes_pp[:,col]/max(abs(modes_pp[:,col]))"
   ]
  },
  {
   "cell_type": "code",
   "execution_count": null,
   "metadata": {},
   "outputs": [],
   "source": [
    "# MAC para Peak-picking\n",
    "MAC_pp = get_MAC_matrix(eigv_norm, modes_pp)\n",
    "plot_MAC(MAC_pp, 'Greens', 'k')\n",
    "print('Max value off diagonal: {:.3f}'.format(get_max_off_diagonal(MAC_pp)))"
   ]
  },
  {
   "cell_type": "markdown",
   "metadata": {},
   "source": [
    "## Frequency Domain Decomposition"
   ]
  },
  {
   "cell_type": "code",
   "execution_count": null,
   "metadata": {},
   "outputs": [],
   "source": [
    "# Respuesta en el tiempo\n",
    "ddotX_time = fftpack.ifft(ddotX, axis=0) # Obtengo respuestas en el tiempo mediante transformada inversa\n",
    "\n",
    "# Matriz de densidades espectrales cruzadas de la respuesta.\n",
    "csd_nperseg = 1024\n",
    "S_xx = np.zeros((csd_nperseg, ddotX_time.shape[1], ddotX_time.shape[1]), dtype=complex)\n",
    "for piso1 in range(ddotX.shape[1]):\n",
    "    for piso2 in range (ddotX.shape[1]):\n",
    "        ff, S_xx[:, piso1, piso2] = signal.csd(ddotX_time[:, piso1], ddotX_time[:, piso2],\n",
    "                                               fs=1./(delta_t),\n",
    "                                               window='hanning',\n",
    "                                               nperseg=csd_nperseg,\n",
    "                                               detrend='constant',\n",
    "                                               axis=0,\n",
    "                                               return_onesided=False)"
   ]
  },
  {
   "cell_type": "code",
   "execution_count": null,
   "metadata": {},
   "outputs": [],
   "source": [
    "# Extraigo frecuencias y formas de modo por SVD\n",
    "u, s, vh = np.linalg.svd(S_xx)\n",
    "    \n",
    "# Maximos del primer valor singular\n",
    "mode_ind_fdd = np.array([m for m in signal.argrelmax(s[:, 0], order=15)]).flatten()"
   ]
  },
  {
   "cell_type": "code",
   "execution_count": null,
   "metadata": {},
   "outputs": [],
   "source": [
    "plt.semilogy(ff[:len(ff)//2], s[:len(ff)//2, :])\n",
    "plt.ylim([np.min(s[:len(ff)//2, 1]), np.max(s[:len(ff)//2, 0])])\n",
    "plt.scatter(ff[mode_ind_fdd[:len(mode_ind_fdd)//2]],\n",
    "            abs(s[mode_ind_fdd[:len(mode_ind_fdd)//2], 0]),\n",
    "            color='r')"
   ]
  },
  {
   "cell_type": "code",
   "execution_count": null,
   "metadata": {},
   "outputs": [],
   "source": [
    "ff[mode_ind_fdd[:4]]"
   ]
  },
  {
   "cell_type": "code",
   "execution_count": null,
   "metadata": {},
   "outputs": [],
   "source": [
    "# Formas modales\n",
    "modes_fdd = np.zeros(eigv.shape, dtype=complex)\n",
    "for idx in range(modes_fdd.shape[1]):\n",
    "    modes_fdd[:, idx] = u[mode_ind_fdd[idx], :, 0]\n",
    "\n",
    "# Normalizo\n",
    "for col in range(modes_fdd.shape[1]):\n",
    "    modes_fdd[:,col] = modes_fdd[:,col]/max(abs(modes_fdd[:,col]))"
   ]
  },
  {
   "cell_type": "code",
   "execution_count": null,
   "metadata": {},
   "outputs": [],
   "source": [
    "# MAC para FDD\n",
    "MAC_fdd = get_MAC_matrix(eigv_norm, modes_fdd)\n",
    "plot_MAC(MAC_fdd, 'Greens', 'k')\n",
    "print('Max value off diagonal: {:.3f}'.format(get_max_off_diagonal(MAC_fdd)))"
   ]
  },
  {
   "cell_type": "markdown",
   "metadata": {},
   "source": [
    "### Estimación de S_xx"
   ]
  },
  {
   "cell_type": "code",
   "execution_count": null,
   "metadata": {},
   "outputs": [],
   "source": [
    "peak_selec = 1 # nro de pico a estimar\n",
    "peak_width = 30 # ancho de banda a estimar (en indices)\n",
    "idxes = [mode_ind_fdd[peak_selec]- peak_width//2, mode_ind_fdd[peak_selec] + peak_width//2]\n",
    "ff_s = ff[idxes[0]:idxes[1]]\n",
    "n_modes = 2 # cantidad de modos considerados"
   ]
  },
  {
   "cell_type": "code",
   "execution_count": null,
   "metadata": {},
   "outputs": [],
   "source": [
    "H_shape = (S_xx.shape[1], S_xx.shape[1]*len(ff_s))\n",
    "H = np.zeros(H_shape)\n",
    "H = np.reshape(S_xx[idxes[0]:idxes[1], :, :], H_shape, 'F')\n",
    "\n",
    "w_fdd = 2*np.pi*ff\n",
    "w_s = 2*np.pi*ff_s\n",
    "\n",
    "D = np.zeros((len(ff_s), n_modes, n_modes), dtype=complex)\n",
    "for mode in range(D.shape[1]):\n",
    "    lamb = w_fdd[mode_ind_fdd[peak_selec]]*(-Xi[mode] + 1j*np.sqrt(1-Xi[mode]**2))\n",
    "    D[:, mode, mode] = 1/(1j*w_s - lamb)\n",
    "    \n",
    "modes_fdd_3d = np.repeat(modes_fdd.T[np.newaxis, :n_modes, :], len(w_s), axis=0)\n",
    "pre_M_fdd = np.matmul(D, modes_fdd_3d, dtype=complex)\n",
    "dofs = pre_M_fdd.shape[2]\n",
    "M_fdd = np.empty_like((pre_M_fdd.reshape((pre_M_fdd.shape[1], pre_M_fdd.shape[0]*dofs),order='C')))\n",
    "i=0\n",
    "while i < pre_M_fdd.shape[0]:\n",
    "    j = i*dofs\n",
    "    M_fdd[:,j:j+dofs] = pre_M_fdd[i,:,:]\n",
    "    i += 1\n",
    "    \n",
    "tau = np.matmul(H,np.linalg.pinv(M_fdd))\n",
    "\n",
    "S_xx_hat = np.repeat(tau[np.newaxis, :, :], len(w_s), axis=0)@D@modes_fdd_3d"
   ]
  },
  {
   "cell_type": "code",
   "execution_count": null,
   "metadata": {},
   "outputs": [],
   "source": [
    "plt.semilogy(ff[:len(ff)//2], abs(S_xx[:len(ff)//2,0,0]))\n",
    "plt.semilogy(ff_s, abs(S_xx_hat[:,0,0]))"
   ]
  },
  {
   "cell_type": "code",
   "execution_count": null,
   "metadata": {},
   "outputs": [],
   "source": [
    "plt.semilogy(ff_s, abs(S_xx[idxes[0]:idxes[1],1,0]))\n",
    "plt.semilogy(ff_s, abs(S_xx_hat[:,1,0]))"
   ]
  },
  {
   "cell_type": "markdown",
   "metadata": {},
   "source": [
    "## Enhanced FDD"
   ]
  },
  {
   "cell_type": "markdown",
   "metadata": {},
   "source": [
    "### Mode PSD identification "
   ]
  },
  {
   "cell_type": "code",
   "execution_count": null,
   "metadata": {},
   "outputs": [],
   "source": [
    "mode = 1\n",
    "peak_idx = mode_ind_fdd[mode]\n",
    "mac_th = 0.9\n",
    "idx_1, idx_2 = get_efdd_segment(u, peak_idx, mac_th)\n",
    "plt.semilogy(ff[idx_1:idx_2], s[idx_1:idx_2, 0])"
   ]
  },
  {
   "cell_type": "code",
   "execution_count": null,
   "metadata": {},
   "outputs": [],
   "source": [
    "ff[idx_1:idx_2]"
   ]
  },
  {
   "cell_type": "code",
   "execution_count": null,
   "metadata": {},
   "outputs": [],
   "source": [
    "sdof_freq = np.zeros_like(s[:,0])\n",
    "sdof_freq[idx_1:idx_2] = s[idx_1:idx_2, 0]\n",
    "sdof_time = fftpack.ifft(sdof_freq)\n",
    "\n",
    "t_sdof_time = np.linspace(0,len(sdof_freq)*delta_t,len(sdof_freq))"
   ]
  },
  {
   "cell_type": "code",
   "execution_count": null,
   "metadata": {},
   "outputs": [],
   "source": [
    "plt.plot(t_sdof_time, sdof_time.real)"
   ]
  },
  {
   "cell_type": "markdown",
   "metadata": {},
   "source": [
    "### Damping estimation"
   ]
  },
  {
   "cell_type": "code",
   "execution_count": null,
   "metadata": {},
   "outputs": [],
   "source": [
    "def get_damp_from_free_decay(decay):\n",
    "    peak_ind = np.array([m for m in signal.argrelmax(abs(decay), order=1)]).flatten()\n",
    "    log_peak_ratios = np.array([2*np.log(abs(decay[peak_ind[0]]/decay[peak_ind[i+1]])) for i in range(len(peak_ind)-1)])\n",
    "    peak_nums = np.linspace(1, len(log_peak_ratios), len(log_peak_ratios))\n",
    "    \n",
    "    A = np.vstack([peak_nums, np.ones(len(peak_nums))]).T\n",
    "    b = log_peak_ratios\n",
    "        \n",
    "    plt.scatter(A[:,0], b)\n",
    "    \n",
    "    m, c = np.linalg.lstsq(A, b, rcond=None)[0]\n",
    "    resid = np.linalg.lstsq(A, b, rcond=None)[1][0]\n",
    "    R2 = 1 - resid / (b.size * b.var())\n",
    "    plt.plot(peak_nums, c + m*peak_nums)\n",
    "    \n",
    "    d = (c + m*peak_nums)/peak_nums\n",
    "    damp = m/np.sqrt(m**2 + 4*np.pi**2) \n",
    "    return damp, R2"
   ]
  },
  {
   "cell_type": "code",
   "execution_count": null,
   "metadata": {},
   "outputs": [],
   "source": [
    "damp, R2 = get_damp_from_free_decay(sdof_time.real[:len(sdof_time)//2])\n",
    "print(f'damp = {damp:.3f}, R2 = {R2:.3f}')"
   ]
  },
  {
   "cell_type": "code",
   "execution_count": null,
   "metadata": {},
   "outputs": [],
   "source": [
    "w_n_efdd = 2*np.pi*mean_freq / np.sqrt(1-0.025**2) \n",
    "\n",
    "signal_array = sdof_time.real[:len(sdof_time)//2]\n",
    "peak_ind = np.array([m for m in signal.argrelmax(abs(signal_array), order=1)]).flatten()\n",
    "\n",
    "plt.plot(t_sdof_time[:len(sdof_time)//2], signal_array)\n",
    "plt.plot(t_sdof_time[peak_ind],\n",
    "         signal_array[0]*np.exp(-damp*w_n_efdd*t_sdof_time[peak_ind]),\n",
    "         color='g')"
   ]
  },
  {
   "cell_type": "markdown",
   "metadata": {},
   "source": [
    "### Frequency estimation"
   ]
  },
  {
   "cell_type": "code",
   "execution_count": null,
   "metadata": {},
   "outputs": [],
   "source": [
    "def get_freq_from_free_decay(time_array, signal_array):\n",
    "    zero_cross_idx = np.where(np.diff(np.sign(signal_array.real)))[0]\n",
    "    freqs = np.zeros(len(zero_cross_idx)-1)\n",
    "    for i in range(len(zero_cross_idx)-1):\n",
    "        idx = zero_cross_idx[i]\n",
    "        next_idx = zero_cross_idx[i+1]\n",
    "        freqs[i] = 1/2/(time_array[next_idx]-time_array[idx])\n",
    "\n",
    "    freq = np.mean(freqs)\n",
    "    \n",
    "    return freq"
   ]
  },
  {
   "cell_type": "code",
   "execution_count": null,
   "metadata": {},
   "outputs": [],
   "source": [
    "efdd_freq_damped = get_freq_from_free_decay(t_sdof_time, sdof_time)\n",
    "efdd_freq = efdd_freq_damped / np.sqrt(1-damp**2)"
   ]
  },
  {
   "cell_type": "code",
   "execution_count": null,
   "metadata": {},
   "outputs": [],
   "source": [
    "print(f'Theoretical mode freq = {f_modes[mode]:.3f} Hz')\n",
    "print(f'FDD damped freq = {ff[peak_idx]:.3f} Hz')\n",
    "print(f'EFDD damped = {efdd_freq_damped:.3f} Hz')\n",
    "print(f'EFDD undamped = {efdd_freq:.3f} Hz')"
   ]
  }
 ],
 "metadata": {
  "kernelspec": {
   "display_name": "Python 3",
   "language": "python",
   "name": "python3"
  },
  "language_info": {
   "codemirror_mode": {
    "name": "ipython",
    "version": 3
   },
   "file_extension": ".py",
   "mimetype": "text/x-python",
   "name": "python",
   "nbconvert_exporter": "python",
   "pygments_lexer": "ipython3",
   "version": "3.7.6"
  }
 },
 "nbformat": 4,
 "nbformat_minor": 2
}
