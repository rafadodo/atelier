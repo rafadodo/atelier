{
 "cells": [
  {
   "cell_type": "code",
   "execution_count": null,
   "metadata": {},
   "outputs": [],
   "source": [
    "import numpy as np\n",
    "import pandas as pd\n",
    "\n",
    "from scipy import signal\n",
    "from scipy import integrate\n",
    "from scipy import fftpack\n",
    "\n",
    "import matplotlib.pyplot as plt\n",
    "\n",
    "import utils\n",
    "import mac\n",
    "import oma\n",
    "import rfp_utils\n",
    "\n",
    "# plt.style.use('seaborn-pastel')"
   ]
  },
  {
   "cell_type": "markdown",
   "metadata": {},
   "source": [
    "# 1) Simulación de edificio de excitado en la base"
   ]
  },
  {
   "cell_type": "code",
   "execution_count": null,
   "metadata": {},
   "outputs": [],
   "source": [
    "# Edificio de 4 pisos de 20 toneladas cada uno, con rigideces laterales de 57MN/m entre si\n",
    "k = 57e6 # N/m\n",
    "m = 20e3 # kg\n",
    "k1, k2, k3, k4 = k, k, k, k\n",
    "m1, m2, m3, m4 = m, m, m, m\n",
    "\n",
    "# Matrices de rigidez y de masa\n",
    "K = np.array([[k1+k2, -k2, 0, 0],\n",
    "             [-k2, k2+k3, -k3, 0],\n",
    "             [0, -k3, k3+k4, -k4],\n",
    "             [0, 0, -k4, k4]])\n",
    "\n",
    "M = np.diag((m1, m2, m3, m4))\n",
    "\n",
    "print(\"K:\")\n",
    "utils.printMatrix(K)\n",
    "print(\"M:\")\n",
    "utils.printMatrix(M)"
   ]
  },
  {
   "cell_type": "code",
   "execution_count": null,
   "metadata": {},
   "outputs": [],
   "source": [
    "# Resolución por autovectores y autovalores\n",
    "A = np.linalg.inv(M)@K\n",
    "lamb, eigv = np.linalg.eig(A)\n",
    "lamb = np.flip(lamb) # menor a mayor\n",
    "eigv = np.flip(eigv, axis=1)"
   ]
  },
  {
   "cell_type": "code",
   "execution_count": null,
   "metadata": {},
   "outputs": [],
   "source": [
    "# Frecuencias modales\n",
    "w_modes = np.sqrt(lamb)\n",
    "f_modes = w_modes/2/np.pi\n",
    "mode_num = np.arange(len(w_modes))\n",
    "print(('f = {}').format(np.round(f_modes,3)))"
   ]
  },
  {
   "cell_type": "code",
   "execution_count": null,
   "metadata": {},
   "outputs": [],
   "source": [
    "# Matriz de formas modales\n",
    "print(\"Formas modales:\")\n",
    "utils.printMatrix(eigv)"
   ]
  },
  {
   "cell_type": "code",
   "execution_count": null,
   "metadata": {},
   "outputs": [],
   "source": [
    "# Matriz de masas modales\n",
    "M_modal = np.transpose(eigv)@M@eigv\n",
    "M_modal[M_modal<1e-3] = np.nan\n",
    "print(\"Masas modales:\")\n",
    "utils.printMatrix(M_modal)"
   ]
  },
  {
   "cell_type": "code",
   "execution_count": null,
   "metadata": {},
   "outputs": [],
   "source": [
    "# Matriz de rigideces modales\n",
    "K_modal = np.transpose(eigv)@K@eigv\n",
    "K_modal[K_modal<1e-3] = np.nan\n",
    "print(\"Rigideces modales:\")\n",
    "utils.printMatrix(K_modal)"
   ]
  },
  {
   "cell_type": "code",
   "execution_count": null,
   "metadata": {},
   "outputs": [],
   "source": [
    "# Normalización de vectores modales\n",
    "eigv_norm = np.zeros(eigv.shape)\n",
    "for mode in range(len(w_modes)):\n",
    "    eigv_norm[:,mode] = eigv[:,mode]/max(abs(eigv[:,mode]))"
   ]
  },
  {
   "cell_type": "code",
   "execution_count": null,
   "metadata": {},
   "outputs": [],
   "source": [
    "# MAC teórico\n",
    "MAC_theo = mac.get_MAC_matrix(eigv_norm, eigv_norm)\n",
    "mac.plot_MAC(MAC_theo, 'Greens', 'k')\n",
    "print('Max value off diagonal: {:.3f}'.format(mac.get_max_off_diagonal(MAC_theo)))"
   ]
  },
  {
   "cell_type": "code",
   "execution_count": null,
   "metadata": {},
   "outputs": [],
   "source": [
    "utils.plot_modes_complexity(eigv_norm)"
   ]
  },
  {
   "cell_type": "code",
   "execution_count": null,
   "metadata": {},
   "outputs": [],
   "source": [
    "utils.plot_column_modes(eigv_norm)"
   ]
  },
  {
   "cell_type": "markdown",
   "metadata": {},
   "source": [
    "## 1.1) Simulación de aceleración con perfil de ruido blanco"
   ]
  },
  {
   "cell_type": "code",
   "execution_count": null,
   "metadata": {},
   "outputs": [],
   "source": [
    "# Aceleración maxima en funcion del tiempo\n",
    "def max_accel(t,t_end):\n",
    "    a = 0.5*(1-np.cos(2*np.pi*t/t_end))\n",
    "    return a"
   ]
  },
  {
   "cell_type": "code",
   "execution_count": null,
   "metadata": {},
   "outputs": [],
   "source": [
    "# Simulación de aceleracion en forma de ruido blanco bajo la curva de aceleracion maxima\n",
    "t_end = 3000\n",
    "delta_t = 1/119\n",
    "t = np.linspace(0, t_end, int(t_end/delta_t))\n",
    "\n",
    "R = 0.1*np.random.normal(size=len(t)) # Vector de ruido gaussiano\n",
    "R_mean = np.mean(R)\n",
    "\n",
    "Ug_time = (R - R_mean)*max_accel(t, t_end) # Aceleración escalada con ruido\n",
    "max_accel_vec = max_accel(t, t_end) # Vector con aceleraciones puras"
   ]
  },
  {
   "cell_type": "code",
   "execution_count": null,
   "metadata": {},
   "outputs": [],
   "source": [
    "fig, ax = plt.subplots(figsize=(8, 4))\n",
    "fig.add_axes()\n",
    "ax.plot(t, Ug_time, color='k', marker='')\n",
    "ax.plot(t, max_accel_vec, color='r')\n",
    "plt.title('Historia de aceleraciones en la base')\n",
    "plt.xlabel('Tiempo [s]')\n",
    "plt.ylabel('Aceleración [g]')\n",
    "ax.grid(True, markevery=1)"
   ]
  },
  {
   "cell_type": "code",
   "execution_count": null,
   "metadata": {},
   "outputs": [],
   "source": [
    "# PSD de aceleraciones en la base\n",
    "nperseg = 1024\n",
    "freq, Ug_psd = signal.welch(Ug_time, \n",
    "                      fs=1./(delta_t), # sample rate\n",
    "                      window='hamming', # apply a Hanning window before taking the DFT\n",
    "                      nperseg=nperseg, # compute periodograms of 256-long segments of x\n",
    "                      noverlap=nperseg//2,\n",
    "                      detrend='constant',\n",
    "                      return_onesided=False) #'constant') # detrend x by subtracting the mean)\n",
    "\n",
    "plt.figure()\n",
    "plt.semilogy(freq[1:len(Ug_psd)//2], Ug_psd[1:len(Ug_psd)//2])\n",
    "plt.title('PSD de aceleración en la base')\n",
    "plt.ylim([np.min(Ug_psd[1:]), np.max(Ug_psd[1:])])\n",
    "plt.xlabel('Frequencia [Hz]')\n",
    "plt.ylabel('ASD [g²/Hz]')\n",
    "plt.grid()\n",
    "plt.show()"
   ]
  },
  {
   "cell_type": "code",
   "execution_count": null,
   "metadata": {},
   "outputs": [],
   "source": [
    "# Transformada de Fourier de aceleraciones en la base\n",
    "Ug_fft = np.fft.fft(Ug_time) * delta_t\n",
    "Ug_fft_freq = np.fft.fftfreq(t.shape[-1], d=delta_t)\n",
    "\n",
    "plt.figure()\n",
    "plt.semilogy(Ug_fft_freq[:len(Ug_fft_freq)//2], abs(Ug_fft[:len(Ug_fft_freq)//2]))\n",
    "plt.title('Espectro de aceleración en la base')\n",
    "plt.xlabel('Frecuencia [Hz]')\n",
    "plt.ylabel('Espectro de aceleraciones [g/Hz]')\n",
    "plt.show()"
   ]
  },
  {
   "cell_type": "markdown",
   "metadata": {},
   "source": [
    "## 1.2) Simulación de respuesta dinámica del edificio a ruido blanco su base"
   ]
  },
  {
   "cell_type": "code",
   "execution_count": null,
   "metadata": {},
   "outputs": [],
   "source": [
    "xi = 0.025 # fracción de amortiguamiento crítico\n",
    "Xi = xi*np.ones(eigv_norm.shape[1])\n",
    "r = np.array([1, 1, 1, 1]).reshape(4,1) # vector logico de desplazamientos respecto de la base\n",
    "print('xi = {}'.format(Xi[:]))\n",
    "print('r = {}^T'.format(r[:,0]))"
   ]
  },
  {
   "cell_type": "markdown",
   "metadata": {},
   "source": [
    "La solucion del espectro de desplazamientos para cada modo es\n",
    "<br/>\n",
    "<center> $Y(\\omega) = \\frac{\\frac{\\iota}{m_i} U_g(\\omega)}{\\omega_i^2 - \\omega^2 + 2i \\xi_i \\omega_i \\omega}$ </center>\n",
    "<br/>\n",
    "con\n",
    "<center> $\\iota = \\Phi^T M r$. </center>\n",
    "<br/>\n",
    "Y la aceleración es\n",
    "<center> $\\ddot{Y}(\\omega) = \\omega^2 Y(\\omega)$ </center>"
   ]
  },
  {
   "cell_type": "code",
   "execution_count": null,
   "metadata": {},
   "outputs": [],
   "source": [
    "U_g = np.copy(Ug_fft)\n",
    "w = 2*np.pi*Ug_fft_freq\n",
    "f = w/2/np.pi"
   ]
  },
  {
   "cell_type": "code",
   "execution_count": null,
   "metadata": {},
   "outputs": [],
   "source": [
    "total_dofs = eigv.shape[0]\n",
    "total_modes = eigv.shape[1]"
   ]
  },
  {
   "cell_type": "code",
   "execution_count": null,
   "metadata": {},
   "outputs": [],
   "source": [
    "I = np.transpose(eigv)@M@r\n",
    "m_modal = M_modal.diagonal() \n",
    "Y = np.zeros((len(w), total_modes), dtype=complex)\n",
    "ddotY = np.copy(Y) \n",
    "for mode in range(total_modes):\n",
    "    C = I[mode] / (m_modal[mode]*(w_modes[mode]**2 - w**2 + 2*1j*Xi[mode]*w_modes[mode]*w))\n",
    "    Y[:,mode] = C*Ug_fft\n",
    "    ddotY[:,mode] = -(w**2) * Y[:, mode]"
   ]
  },
  {
   "cell_type": "code",
   "execution_count": null,
   "metadata": {},
   "outputs": [],
   "source": [
    "plt.figure()\n",
    "lgnd  = ['modo {}'.format(mode+1) for mode in range(total_modes)]\n",
    "plt.semilogy(f[:len(f)//4], abs(ddotY[:len(f)//4]))\n",
    "plt.title('Aceleraciones modales')\n",
    "plt.xlabel('Frequencia [Hz]')\n",
    "plt.ylabel('Espectro de Aceleraciones [g/Hz]')\n",
    "plt.ylim([abs(ddotY[len(f)//4, 0]), None])\n",
    "plt.legend(lgnd, loc='upper right')\n",
    "plt.show()\n",
    "print(np.max(abs(ddotY)))"
   ]
  },
  {
   "cell_type": "code",
   "execution_count": null,
   "metadata": {},
   "outputs": [],
   "source": [
    "freq_max = [abs(f[i]) for i in ddotY.argmax(axis=0)]\n",
    "print(('freqs from max response = {}').format(np.round(freq_max, 3)))\n",
    "print('errors in % = {}'.format(np.round(100*(f_modes - freq_max) / f_modes, 2)))"
   ]
  },
  {
   "cell_type": "markdown",
   "metadata": {},
   "source": [
    "### 1.2.1) Respuesta en cada piso"
   ]
  },
  {
   "cell_type": "code",
   "execution_count": null,
   "metadata": {},
   "outputs": [],
   "source": [
    "# Espectro de respuesta en frecuencia\n",
    "X = np.copy(Y)\n",
    "X = (eigv @ Y.T).T # Desplazamientos en los grados de libertad\n",
    "ddotX = -(w**2 * X.T).T # Aceleraciones"
   ]
  },
  {
   "cell_type": "code",
   "execution_count": null,
   "metadata": {},
   "outputs": [],
   "source": [
    "plt.figure()\n",
    "lgnd  = ['piso {}'.format(mode+1) for mode in range(total_modes)]\n",
    "plt.semilogy(f[:len(f)//4], abs(ddotX[:len(f)//4,:]))\n",
    "plt.title('Aceleraciones por piso')\n",
    "plt.xlabel('Frequencia [Hz]')\n",
    "plt.ylabel('Espectro de aceleraciones [g/Hz]')\n",
    "plt.ylim([abs(ddotX[len(f)//4, 0]), None])\n",
    "plt.legend(lgnd, loc='upper right')\n",
    "plt.show()"
   ]
  },
  {
   "cell_type": "markdown",
   "metadata": {},
   "source": [
    "# 2. Operational Modal Analysis"
   ]
  },
  {
   "cell_type": "markdown",
   "metadata": {},
   "source": [
    "## 2.1) Peak-picking (PP)"
   ]
  },
  {
   "cell_type": "code",
   "execution_count": null,
   "metadata": {},
   "outputs": [],
   "source": [
    "ddotX_psd = np.copy(ddotX)\n",
    "for piso in range(total_dofs):\n",
    "    ddotX_psd[:, piso] = ddotX[:, piso] * np.conj(ddotX[:, piso])"
   ]
  },
  {
   "cell_type": "code",
   "execution_count": null,
   "metadata": {},
   "outputs": [],
   "source": [
    "# Average Normalized PSD (ANPSD)\n",
    "ANPSD = np.zeros(ddotX_psd.shape[0], dtype=complex)\n",
    "NPSD = np.copy(ddotX_psd)\n",
    "for piso in range(total_dofs):\n",
    "    NPSD[:, piso] = ddotX_psd[:, piso] / np.sum(ddotX_psd[:, piso])\n",
    "ANPSD = np.sum(NPSD, axis=1)\n",
    "mode_ind_pp = np.array([m for m in signal.argrelmax(ANPSD[:len(f)//4], order=4000)]).flatten()"
   ]
  },
  {
   "cell_type": "code",
   "execution_count": null,
   "metadata": {},
   "outputs": [],
   "source": [
    "plt.figure()\n",
    "plt.semilogy(f[:len(f)//4], abs(ANPSD[:len(f)//4]), label='ANPSD')\n",
    "plt.scatter(f[mode_ind_pp], abs(ANPSD[mode_ind_pp]), label='modes', color='r')\n",
    "plt.title('Average Normalized PSD')\n",
    "# plt.ylim([abs(ANPSD[len(f)//4]), None])\n",
    "plt.xlabel('Frequencia [Hz]')\n",
    "plt.ylabel('ASD [g²/Hz]')\n",
    "plt.legend()\n",
    "plt.show()"
   ]
  },
  {
   "cell_type": "code",
   "execution_count": null,
   "metadata": {},
   "outputs": [],
   "source": [
    "f_pp = f[mode_ind_pp[:4]]\n",
    "err_f_pp = (f_pp - f_modes)/f_modes*100\n",
    "\n",
    "data = np.vstack((mode_num, f_modes, f_pp)).T\n",
    "headers = ['Modo', 'Teoría [Hz]', 'Peak-picking [Hz]']\n",
    "utils.print_modes_dataframe(data=data, headers=headers, decimals=2)"
   ]
  },
  {
   "cell_type": "markdown",
   "metadata": {},
   "source": [
    "### 2.1.1) Formas modales"
   ]
  },
  {
   "cell_type": "code",
   "execution_count": null,
   "metadata": {},
   "outputs": [],
   "source": [
    "angle_th = 30\n",
    "mode_idxes_pp = mode_ind_pp[:total_modes]\n",
    "modes_pp = oma.get_peak_picking_modes(psd=ddotX, angle_th=angle_th, mode_idxes=mode_idxes_pp)"
   ]
  },
  {
   "cell_type": "code",
   "execution_count": null,
   "metadata": {},
   "outputs": [],
   "source": [
    "MAC_pp = mac.get_MAC_matrix(eigv_norm, modes_pp)\n",
    "mac.plot_MAC(MAC_pp, 'Greens', 'k')\n",
    "print('Max value off diagonal: {:.3f}'.format(mac.get_max_off_diagonal(MAC_pp)))"
   ]
  },
  {
   "cell_type": "code",
   "execution_count": null,
   "metadata": {},
   "outputs": [],
   "source": [
    "utils.plot_modes_complexity(modes_pp)"
   ]
  },
  {
   "cell_type": "markdown",
   "metadata": {},
   "source": [
    "## 2.2) Frequency Domain Decomposition (FDD)"
   ]
  },
  {
   "cell_type": "code",
   "execution_count": null,
   "metadata": {},
   "outputs": [],
   "source": [
    "# Respuesta en el tiempo\n",
    "ddotX_time = fftpack.ifft(ddotX, axis=0) # Obtengo respuestas en el tiempo mediante transformada inversa\n",
    "\n",
    "# Matriz de densidades espectrales cruzadas de la respuesta.\n",
    "csd_nperseg = 1024\n",
    "S_xx = np.zeros((csd_nperseg, total_dofs, total_dofs), dtype=complex)\n",
    "for dof1 in range(total_dofs):\n",
    "    for dof2 in range(total_dofs):\n",
    "        f_S, S_xx[:, dof1, dof2] = signal.csd(ddotX_time[:, dof1], ddotX_time[:, dof2],\n",
    "                                               fs=1./(delta_t),\n",
    "                                               window='hanning',\n",
    "                                               nperseg=csd_nperseg,\n",
    "                                               detrend='constant',\n",
    "                                               axis=0,\n",
    "                                               return_onesided=False)"
   ]
  },
  {
   "cell_type": "code",
   "execution_count": null,
   "metadata": {},
   "outputs": [],
   "source": [
    "# Extraigo frecuencias y formas de modo por SVD\n",
    "u_fdd, s_fdd, vh_fdd = np.linalg.svd(S_xx)\n",
    "    \n",
    "# Maximos del primer valor singular\n",
    "mode_ind_fdd = np.array([m for m in signal.argrelmax(s_fdd[:len(f_S)//4, 0], order=12)]).flatten()"
   ]
  },
  {
   "cell_type": "code",
   "execution_count": null,
   "metadata": {},
   "outputs": [],
   "source": [
    "plt.semilogy(f_S[:len(f_S)//4], s_fdd[:len(f_S)//4, :])\n",
    "# plt.ylim([s[len(f_S)//4, 0], None])\n",
    "plt.scatter(f_S[mode_ind_fdd],\n",
    "            abs(s_fdd[mode_ind_fdd, 0]),\n",
    "            color='r')\n",
    "plt.title('Valores singulares de la matriz de PSD')\n",
    "plt.ylabel('ASD [g^2/Hz]')\n",
    "plt.xlabel('Frequencia [Hz]')\n",
    "plt.show()"
   ]
  },
  {
   "cell_type": "code",
   "execution_count": null,
   "metadata": {},
   "outputs": [],
   "source": [
    "f_fdd = f_S[mode_ind_fdd[:4]]\n",
    "err_f_fdd = (f_fdd - f_modes)/f_modes*100\n",
    "\n",
    "data = np.vstack((mode_num, f_modes, f_fdd)).T\n",
    "headers = ['Modo', 'Teoría [Hz]', 'FDD [Hz]']\n",
    "utils.print_modes_dataframe(data=data, headers=headers, decimals=2)"
   ]
  },
  {
   "cell_type": "code",
   "execution_count": null,
   "metadata": {},
   "outputs": [],
   "source": [
    "# Formas modales\n",
    "modes_fdd = np.zeros((total_dofs, total_modes), dtype=complex)\n",
    "for idx in range(modes_fdd.shape[1]):\n",
    "    modes_fdd[:, idx] = u_fdd[mode_ind_fdd[idx], :, 0]\n",
    "\n",
    "# Normalización\n",
    "for col in range(modes_fdd.shape[1]):\n",
    "    modes_fdd[:,col] = modes_fdd[:,col]/max(abs(modes_fdd[:,col]))"
   ]
  },
  {
   "cell_type": "code",
   "execution_count": null,
   "metadata": {},
   "outputs": [],
   "source": [
    "MAC_fdd = mac.get_MAC_matrix(eigv_norm, modes_fdd)\n",
    "mac.plot_MAC(MAC_fdd, 'Greens', 'k')\n",
    "print('Max value off diagonal: {:.3f}'.format(mac.get_max_off_diagonal(MAC_fdd)))"
   ]
  },
  {
   "cell_type": "code",
   "execution_count": null,
   "metadata": {},
   "outputs": [],
   "source": [
    "utils.plot_modes_complexity(modes_fdd)"
   ]
  },
  {
   "cell_type": "markdown",
   "metadata": {},
   "source": [
    "## 2.3) Enhanced Frequency Domain Decomposition (EFDD)"
   ]
  },
  {
   "cell_type": "markdown",
   "metadata": {},
   "source": [
    "### 2.3.1) Identificación de las PSD modales "
   ]
  },
  {
   "cell_type": "code",
   "execution_count": null,
   "metadata": {},
   "outputs": [],
   "source": [
    "freq = f_S\n",
    "mac_th = 0.9 #\n",
    "colors = plt.rcParams['axes.prop_cycle'].by_key()['color'][:total_modes]\n",
    "sdof_psd = np.zeros((freq.size, total_modes), dtype=complex)\n",
    "sdof_acf = np.zeros((freq.size, total_modes), dtype=complex)\n",
    "t_sdof_acf = np.linspace(0, sdof_psd.shape[0]*delta_t, sdof_psd.shape[0])\n",
    "\n",
    "fig_psd, ax_psd = plt.subplots()\n",
    "ax_psd.set_title('Picos de PSD seleccionados por EFDD')\n",
    "ax_psd.set_xlabel('Frequencia [Hz]')\n",
    "ax_psd.set_ylabel('PSD [g^2/Hz]')\n",
    "ax_psd.grid(True, markevery=1)\n",
    "\n",
    "fig_decay, ax_decay = plt.subplots(total_modes//2, 2)\n",
    "fig_decay.suptitle('Decaimientos de los sistemas 1-DOF asociados a cada pico')\n",
    "[ax_decay.flat[i].grid(True, markevery=1) for i in range(len(ax_decay.flat))]\n",
    "\n",
    "for mode in range(total_modes):\n",
    "    peak_idx = mode_ind_fdd[mode]\n",
    "    idx_low, idx_high = oma.get_efdd_segment(u_fdd, peak_idx, mac_th)\n",
    "  \n",
    "    ax_psd.semilogy(f_S[idx_low:idx_high],\n",
    "                    abs(s_fdd[idx_low:idx_high, 0]),\n",
    "                    color=colors[mode])\n",
    "    \n",
    "    sdof_psd[idx_low:idx_high, mode] = s_fdd[idx_low:idx_high, 0]\n",
    "    sdof_acf[:, mode] = fftpack.ifft(sdof_psd[:, mode])\n",
    "    ax_decay.flat[mode].plot(t_sdof_acf[:len(t_sdof_acf)//2],\n",
    "                             sdof_acf[:len(t_sdof_acf)//2, mode].real,\n",
    "                             color=colors[mode])\n",
    "    ax_decay.flat[mode].set_xlabel('Tiempo [s]')\n",
    "plt.show()"
   ]
  },
  {
   "cell_type": "markdown",
   "metadata": {},
   "source": [
    "### 2.3.2) Estimación de los amortiguamientos"
   ]
  },
  {
   "cell_type": "code",
   "execution_count": null,
   "metadata": {},
   "outputs": [],
   "source": [
    "xi_efdd = np.zeros(total_modes)\n",
    "R2 = np.zeros(total_modes)\n",
    "\n",
    "for mode in range(total_modes):\n",
    "    decay = sdof_acf[:, mode].real[:len(t_sdof_acf)//2]\n",
    "    xi_efdd[mode], R2[mode] = oma.get_damp_from_decay(decay)"
   ]
  },
  {
   "cell_type": "code",
   "execution_count": null,
   "metadata": {},
   "outputs": [],
   "source": [
    "data = np.vstack((mode_num, Xi, xi_efdd)).T\n",
    "headers = ['Modo', 'Teoría', 'EFDD']\n",
    "utils.print_modes_dataframe(data=data, headers=headers, decimals=3)"
   ]
  },
  {
   "cell_type": "markdown",
   "metadata": {},
   "source": [
    "### 2.3.3) Estimación de las frecuencias"
   ]
  },
  {
   "cell_type": "code",
   "execution_count": null,
   "metadata": {},
   "outputs": [],
   "source": [
    "f_efdd = np.zeros(total_modes)\n",
    "\n",
    "fig_decay, ax_decay = plt.subplots(total_modes//2, 2)\n",
    "fig_decay.suptitle('Ajuste de los decaimientos como logaritmicos')\n",
    "\n",
    "[ax_decay.flat[i].grid(True, markevery=1) for i in range(len(ax_decay.flat))]\n",
    "\n",
    "for mode in range(total_modes):\n",
    "    decay = sdof_acf[:, mode].real[:len(t_sdof_acf)//2]\n",
    "    f_efdd_damped = oma.get_freq_from_signal(t_sdof_acf, sdof_acf[:, mode])\n",
    "    f_efdd[mode] = f_efdd_damped / np.sqrt(1-xi_efdd[mode]**2)\n",
    "    w_n_efdd = 2*np.pi*f_efdd[mode]\n",
    "    peak_ind = np.array([m for m in signal.argrelmax(abs(decay), order=1)]).flatten()\n",
    "\n",
    "    ax_decay.flat[mode].plot(t_sdof_acf[:len(sdof_acf)//2], decay, color=colors[mode])\n",
    "    ax_decay.flat[mode].plot(t_sdof_acf[peak_ind],\n",
    "                             decay[0]*np.exp(-xi_efdd[mode]*w_n_efdd*t_sdof_acf[peak_ind]),\n",
    "                             color=colors[mode])\n",
    "    ax_decay.flat[mode].set_xlabel('Tiempo [s]')"
   ]
  },
  {
   "cell_type": "code",
   "execution_count": null,
   "metadata": {},
   "outputs": [],
   "source": [
    "err_f_efdd = (f_efdd - f_modes)/f_modes*100\n",
    "\n",
    "data = np.vstack((mode_num, f_modes, f_fdd, f_efdd)).T\n",
    "headers = ['Modo', 'Teoría [Hz]', 'FDD [Hz]', 'EFDD [Hz]']\n",
    "utils.print_modes_dataframe(data=data, headers=headers, decimals=2)"
   ]
  },
  {
   "cell_type": "markdown",
   "metadata": {},
   "source": [
    "### 2.3.4) Estimación de formas modales promedio"
   ]
  },
  {
   "cell_type": "code",
   "execution_count": null,
   "metadata": {},
   "outputs": [],
   "source": [
    "# Promedio pesado segun MAC de las formas modales dentro del \"segmento EFDD\" de cada pico\n",
    "modes_efdd = np.zeros((total_dofs,total_modes), dtype=complex)\n",
    "for mode in range(total_modes):\n",
    "    peak_idx = mode_ind_fdd[mode]\n",
    "    seg_idxes = oma.get_efdd_segment(u_fdd, peak_idx, mac_th)\n",
    "    modes_efdd[:, mode] = oma.get_mean_modeshape_efdd(segment_idxes=seg_idxes,\n",
    "                                                      peak_idx=peak_idx,\n",
    "                                                      s_vectors=u_fdd)\n",
    "\n",
    "# Normalización\n",
    "for col in range(modes_efdd.shape[1]):\n",
    "    modes_efdd[:,col] = modes_efdd[:,col]/max(abs(modes_efdd[:,col]))"
   ]
  },
  {
   "cell_type": "code",
   "execution_count": null,
   "metadata": {},
   "outputs": [],
   "source": [
    "MAC_efdd = mac.get_MAC_matrix(eigv_norm, modes_efdd)\n",
    "mac.plot_MAC(MAC_efdd, 'Greens', 'k')\n",
    "print('Max value off diagonal: {:.3f}'.format(mac.get_max_off_diagonal(MAC_efdd)))"
   ]
  },
  {
   "cell_type": "code",
   "execution_count": null,
   "metadata": {},
   "outputs": [],
   "source": [
    "utils.plot_modes_complexity(modes_efdd)"
   ]
  },
  {
   "cell_type": "markdown",
   "metadata": {},
   "source": [
    "## 2.4) Curve-fit Frequency Domain Decomposition (CFDD)"
   ]
  },
  {
   "cell_type": "markdown",
   "metadata": {},
   "source": [
    "### 2.4.1) Estimación mediante cuadrado de la FRF"
   ]
  },
  {
   "cell_type": "code",
   "execution_count": null,
   "metadata": {},
   "outputs": [],
   "source": [
    "mac_th = 0.9\n",
    "freq = f_S\n",
    "f_cfdd = np.zeros(total_modes)\n",
    "xi_cfdd = np.zeros(total_modes)\n",
    "\n",
    "freq_hat = np.linspace(0, f[len(f)//2-1], 4000)\n",
    "psd_hat = np.zeros((freq_hat.size, total_modes))\n",
    "\n",
    "for mode in range(total_modes):\n",
    "    peak_idx = mode_ind_fdd[mode]\n",
    "    efdd_idxes = oma.get_efdd_segment(u_fdd, peak_idx, mac_th)\n",
    "    f_cfdd[mode], xi_cfdd[mode], psd_hat[:, mode] = oma.curve_fit_psd_peak(freq, s_fdd[:, 0], efdd_idxes, freq_hat)\n",
    "    \n",
    "    plt.semilogy(freq[efdd_idxes[0]:efdd_idxes[1]],\n",
    "                 abs(s_fdd[efdd_idxes[0]:efdd_idxes[1], 0]),\n",
    "                 color=colors[mode])\n",
    "    plt.semilogy(freq_hat[:freq_hat.size//2],\n",
    "                 abs(psd_hat[:freq_hat.size//2, mode]),\n",
    "                 color=colors[mode],\n",
    "                 linestyle='--')\n",
    "\n",
    "plt.title('Ajuste por CFDD de picos de PSD')\n",
    "plt.xlabel('Frequencia [Hz]')\n",
    "plt.ylabel('PSD [g^2/Hz]')\n",
    "plt.ylim([abs(psd_hat[len(freq_hat)//4, 1]), None])"
   ]
  },
  {
   "cell_type": "code",
   "execution_count": null,
   "metadata": {},
   "outputs": [],
   "source": [
    "err_f_cfdd = (f_cfdd - f_modes)/f_modes*100\n",
    "\n",
    "data = np.vstack((mode_num, f_modes, f_fdd, f_efdd, f_cfdd)).T\n",
    "headers = ['Modo', 'Teoría [Hz]', 'FDD [Hz]', 'EFDD [Hz]', 'CFDD [Hz]']\n",
    "utils.print_modes_dataframe(data=data, headers=headers, decimals=2)"
   ]
  },
  {
   "cell_type": "code",
   "execution_count": null,
   "metadata": {},
   "outputs": [],
   "source": [
    "data = np.vstack((mode_num, Xi, xi_efdd, xi_cfdd)).T\n",
    "headers = ['Modo', 'Teoría', 'EFDD', 'CFDD']\n",
    "utils.print_modes_dataframe(data=data, headers=headers, decimals=3)"
   ]
  },
  {
   "cell_type": "markdown",
   "metadata": {},
   "source": [
    "# 3) Experimental Modal Analysis (EMA)"
   ]
  },
  {
   "cell_type": "markdown",
   "metadata": {},
   "source": [
    "## 3.1) Estimadores de FRF: H1 y H2"
   ]
  },
  {
   "cell_type": "markdown",
   "metadata": {},
   "source": [
    "<br/>\n",
    "<center> $H(\\omega) = \\frac{X(\\omega)}{F(\\omega)}$ </center>\n",
    "<br/>\n",
    "<center> $H_1(\\omega) = \\frac{S_{XF}(\\omega)}{S_{FF}(\\omega)}$ </center>\n",
    "<br/>\n",
    "<center> $H_2(\\omega) = \\frac{S_{XX}(\\omega)}{S_{XF}(\\omega)}$ </center>\n",
    "<br/>"
   ]
  },
  {
   "cell_type": "code",
   "execution_count": null,
   "metadata": {},
   "outputs": [],
   "source": [
    "# Densidades espectrales cruzadas entre respuestas e input.\n",
    "csd_nperseg = 1024\n",
    "S_xf = np.zeros((csd_nperseg, total_dofs), dtype=complex)\n",
    "for dof in range(total_dofs):\n",
    "        f_S, S_xf[:, dof] = signal.csd(ddotX_time[:, dof], Ug_time,\n",
    "                                               fs=1./(delta_t),\n",
    "                                               window='hanning',\n",
    "                                               nperseg=csd_nperseg,\n",
    "                                               detrend='constant',\n",
    "                                               axis=0,\n",
    "                                               return_onesided=False)\n",
    "\n",
    "plt.semilogy(f_S[:len(f_S)//4], np.abs(S_xf[:len(f_S)//4]))\n",
    "plt.title('CSDs entre respuestas y excitación')\n",
    "plt.ylabel('Acelerancia [g/g]')\n",
    "plt.xlabel('Frequency [Hz]')\n",
    "plt.show()"
   ]
  },
  {
   "cell_type": "code",
   "execution_count": null,
   "metadata": {},
   "outputs": [],
   "source": [
    "H1 = np.zeros((S_xf.shape[0], total_dofs), dtype=complex)\n",
    "for dof in range(total_dofs):\n",
    "    H1[:, dof] = S_xf[:, dof] / Ug_psd\n",
    "\n",
    "max_ind_H1 = np.array([m for m in signal.argrelmax(np.abs(H1[:len(f_S)//4, 0]), order=10)]).flatten()\n",
    "print('Frecuencias de pico para H1 = {} Hz'.format(np.round(f_S[max_ind_H1[:4]], 2)))\n",
    "\n",
    "H2 = np.zeros((S_xf.shape[0], total_dofs), dtype=complex)\n",
    "for dof in range(total_dofs):\n",
    "    H2[:, dof] = S_xx[:, dof, dof] / S_xf[:, dof]\n",
    "max_ind_H2 = np.array([m for m in signal.argrelmax(np.abs(H2[:len(f_S)//4, 3]), order=10)]).flatten()\n",
    "print('Frecuencias de pico para H2 = {} Hz'.format(np.round(f_S[max_ind_H2[:4]], 2)))"
   ]
  },
  {
   "cell_type": "code",
   "execution_count": null,
   "metadata": {},
   "outputs": [],
   "source": [
    "fig, ax = plt.subplots(1, 2, figsize=(9, 4))\n",
    "ax.flat[0].semilogy(f_S[:len(f_S)//4], np.abs(H1[:len(f_S)//4, :]))\n",
    "ax.flat[0].scatter(f_S[max_ind_H1], np.abs(np.abs(H1[max_ind_H1,3])), color='k')\n",
    "ax.flat[1].semilogy(f_S[:len(f_S)//4], np.abs(H2[:len(f_S)//4,:]))\n",
    "ax.flat[1].scatter(f_S[max_ind_H2], np.abs(H2[max_ind_H2,3]), color='k')\n",
    "for k in range(len(ax.flat)):\n",
    "    ax.flat[k].set_title('Acelerancias estimadas por H{}'.format(k+1))\n",
    "    ax.flat[k].set_ylabel('Acelerancia [g/g]')\n",
    "    ax.flat[k].set_xlabel('Frequency [Hz]')\n",
    "\n",
    "fig.tight_layout()\n",
    "plt.show()"
   ]
  },
  {
   "cell_type": "markdown",
   "metadata": {},
   "source": [
    "## 3.2) Rational Fraction Polynomial (RFP)"
   ]
  },
  {
   "cell_type": "code",
   "execution_count": null,
   "metadata": {},
   "outputs": [],
   "source": [
    "# Conversión de acelerancia a receptancia(FRF) diviendo por el cuadrado de las frecuencias angulares\n",
    "dof = 2\n",
    "w_S = 2*np.pi*f_S[1:len(f_S)//2]\n",
    "H_frf = H2[1:len(f_S)//2, dof]/w_S**2"
   ]
  },
  {
   "cell_type": "code",
   "execution_count": null,
   "metadata": {},
   "outputs": [],
   "source": [
    "plt.semilogy(f_S[:len(f_S)//4], np.abs(H_frf[:len(f_S)//4]))\n",
    "plt.title('Receptancia del DOF {} estimada por H2'.format(dof))\n",
    "plt.ylabel('Acelerancia [g/g]')\n",
    "plt.xlabel('Frequency [Hz]')\n",
    "plt.show()"
   ]
  },
  {
   "cell_type": "code",
   "execution_count": null,
   "metadata": {},
   "outputs": [],
   "source": [
    "mode_ind_H_frf = np.array([m for m in signal.argrelmax(np.abs(H_frf), order=10)]).flatten()\n",
    "print('Frecuencias de picos = {} Hz'.format(np.round(f_S[mode_ind_H_frf], 2)))"
   ]
  },
  {
   "cell_type": "code",
   "execution_count": null,
   "metadata": {},
   "outputs": [],
   "source": [
    "idx = np.linspace(90, 160, 61, dtype=int)\n",
    "omega = w_S[idx]\n",
    "f_omega = omega/2/np.pi\n",
    "frf = H_frf[idx]\n",
    "\n",
    "modal_params, alpha = rfp_utils.rfp(frf, omega, 3)"
   ]
  },
  {
   "cell_type": "code",
   "execution_count": null,
   "metadata": {},
   "outputs": [],
   "source": [
    "plt.semilogy(f_S[1:len(f_S)//4], np.abs(H_frf[1:len(f_S)//4]), color='tab:blue')\n",
    "plt.semilogy(f_omega, np.abs(alpha), color='tab:blue', marker='o')\n",
    "plt.title('FRF estimada por RFP entre {} y {} Hz'.format(\n",
    "            np.round(f_omega[0],1),\n",
    "            np.round(f_omega[-1]),1))\n",
    "plt.ylabel('Acelerancia [g/g]')\n",
    "plt.xlabel('Frequency [Hz]')\n",
    "plt.show()"
   ]
  },
  {
   "cell_type": "code",
   "execution_count": null,
   "metadata": {
    "scrolled": true
   },
   "outputs": [],
   "source": [
    "freq_n = modal_params[0]\n",
    "xi_n = abs(modal_params[1])\n",
    "print('Freqs = {} Hz'.format(np.round(freq_n, 2)))\n",
    "print('Damps = {}'.format(np.round(xi_n, 3)))"
   ]
  },
  {
   "cell_type": "markdown",
   "metadata": {},
   "source": [
    "## 3.3) Global Rational Fraction Polynomial (GRFP)"
   ]
  },
  {
   "cell_type": "code",
   "execution_count": null,
   "metadata": {},
   "outputs": [],
   "source": [
    "idx = np.linspace(20, 80, 61, dtype=int)\n",
    "omega = w_S[idx]\n",
    "f_omega = omega/2/np.pi\n",
    "frf = np.zeros_like(H2[idx, :], dtype=complex)\n",
    "for dof in range(total_dofs):\n",
    "    frf[:, dof] = H2[idx, dof]/omega**2"
   ]
  },
  {
   "cell_type": "code",
   "execution_count": null,
   "metadata": {},
   "outputs": [],
   "source": [
    "plt.title('FRF estimadas por H2 entre {} y {} Hz'.format(\n",
    "            np.round(f_omega[0],1),\n",
    "            np.round(f_omega[-1]),1))\n",
    "plt.xlabel('Frequencia [Hz]')\n",
    "plt.ylabel('FRF [m/g]')\n",
    "plt.semilogy(f_omega, np.abs(frf))\n",
    "plt.show()"
   ]
  },
  {
   "cell_type": "code",
   "execution_count": null,
   "metadata": {},
   "outputs": [],
   "source": [
    "# Obtencion del polinomio denominador\n",
    "denominator, denominator_coeff = rfp_utils.grfp_denominator(frf, omega, 3)\n",
    "\n",
    "plt.title('Polinomio denominador comun de las FRF')\n",
    "plt.xlabel('Frequencia [Hz]')\n",
    "plt.ylabel('FRF [m/g]')\n",
    "plt.semilogy(f_omega, np.abs(frf))\n",
    "plt.semilogy(f_omega, np.abs(1/denominator), color='k', linestyle='--', label='polinomio denominador')\n",
    "plt.legend(loc='upper right')\n",
    "plt.show()"
   ]
  },
  {
   "cell_type": "code",
   "execution_count": null,
   "metadata": {},
   "outputs": [],
   "source": [
    "# Obtencion de los parametros modales de cada FRF\n",
    "frf_estimates, modal_params = rfp_utils.grfp_parameters(frf, omega, denominator, denominator_coeff, 3)\n",
    "f_grfp, xi_grfp, modal_mag_n, modal_ang_n = modal_params\n",
    "modes_grfp = (modal_mag_n*np.exp(1j*modal_ang_n)).T\n",
    "\n",
    "print('Frequencias: {} Hz'.format(np.round(f_grfp, 2)))\n",
    "print('Amortiguamientos: {}'.format(np.round(xi_grfp, 3)))\n",
    "utils.plot_column_modes(modes_grfp)\n",
    "plt.show()"
   ]
  },
  {
   "cell_type": "code",
   "execution_count": null,
   "metadata": {},
   "outputs": [],
   "source": [
    "top = len(f_grfp)\n",
    "data = np.vstack((mode_num[:top], f_modes[:top], f_cfdd[:top], f_grfp)).T\n",
    "headers = ['Modo', 'Teoría [Hz]', 'CFDD [Hz]', 'GRFP [Hz]']\n",
    "utils.print_modes_dataframe(data=data, headers=headers, decimals=2)"
   ]
  },
  {
   "cell_type": "code",
   "execution_count": null,
   "metadata": {},
   "outputs": [],
   "source": [
    "MAC_grfp = mac.get_MAC_matrix(eigv_norm[:,:top], modes_grfp)\n",
    "mac.plot_MAC(MAC_grfp, 'Greens', 'k')\n",
    "print('Max value off diagonal: {:.3f}'.format(mac.get_max_off_diagonal(MAC_grfp)))"
   ]
  },
  {
   "cell_type": "code",
   "execution_count": null,
   "metadata": {},
   "outputs": [],
   "source": [
    "# Grafico de estimaciones de FRF\n",
    "plt.title('Ajuste por GRFP de las FRF')\n",
    "plt.xlabel('Frequencia [Hz]')\n",
    "plt.ylabel('FRF [m/g]')\n",
    "for dof in range(frf.shape[1]):\n",
    "    plt.semilogy(f_omega, np.abs(frf[:, dof]), color=colors[dof])\n",
    "    plt.semilogy(f_omega, np.abs(frf_estimates[:, dof]), color=colors[dof], linestyle='--')\n",
    "plt.show()"
   ]
  }
 ],
 "metadata": {
  "kernelspec": {
   "display_name": "Python 3",
   "language": "python",
   "name": "python3"
  },
  "language_info": {
   "codemirror_mode": {
    "name": "ipython",
    "version": 3
   },
   "file_extension": ".py",
   "mimetype": "text/x-python",
   "name": "python",
   "nbconvert_exporter": "python",
   "pygments_lexer": "ipython3",
   "version": "3.7.6"
  }
 },
 "nbformat": 4,
 "nbformat_minor": 2
}
