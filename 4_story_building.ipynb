{
 "cells": [
  {
   "cell_type": "code",
   "execution_count": null,
   "metadata": {},
   "outputs": [],
   "source": [
    "import matplotlib.pyplot as plt\n",
    "import numpy as np\n",
    "from utils import printMatrix"
   ]
  },
  {
   "cell_type": "code",
   "execution_count": null,
   "metadata": {},
   "outputs": [],
   "source": [
    "k = 57e6 # N/m\n",
    "m = 20e3 # kg\n",
    "\n",
    "k1, k2, k3, k4 = k, k, k, k\n",
    "m1, m2, m3, m4 = m, m, m, m\n",
    "\n",
    "K = np.array([[k1+k2, -k2, 0, 0],\n",
    "             [-k2, k2+k3, -k3, 0],\n",
    "             [0, -k3, k3+k4, -k4],\n",
    "             [0, 0, -k4, k4]])\n",
    "\n",
    "M = np.diag((m1, m2, m3, m4))\n",
    "print(('K = {}').format(K))\n",
    "print(('M = {}').format(M))"
   ]
  },
  {
   "cell_type": "code",
   "execution_count": null,
   "metadata": {},
   "outputs": [],
   "source": [
    "A = np.linalg.inv(M)@K\n",
    "lamb, v = np.linalg.eig(A)"
   ]
  },
  {
   "cell_type": "code",
   "execution_count": null,
   "metadata": {},
   "outputs": [],
   "source": [
    "w = np.sqrt(lamb)\n",
    "f = w/2/np.pi\n",
    "print(('f = {}').format(f))"
   ]
  },
  {
   "cell_type": "code",
   "execution_count": null,
   "metadata": {},
   "outputs": [],
   "source": [
    "print(('v = {}').format(v))"
   ]
  },
  {
   "cell_type": "code",
   "execution_count": null,
   "metadata": {},
   "outputs": [],
   "source": [
    "M_norm = np.transpose(v)@M@v\n",
    "M_norm[M_norm<1e-3] = np.nan\n",
    "printMatrix(M_norm)"
   ]
  },
  {
   "cell_type": "code",
   "execution_count": null,
   "metadata": {},
   "outputs": [],
   "source": [
    "K_norm = np.transpose(v)@K@v\n",
    "K_norm[K_norm<1e-3] = np.nan\n",
    "printMatrix(K_norm)"
   ]
  },
  {
   "cell_type": "code",
   "execution_count": null,
   "metadata": {},
   "outputs": [],
   "source": [
    "w_2 = np.zeros(len(w))\n",
    "for mode in range(len(w)):\n",
    "    w_2[mode] = np.sqrt(K_norm[mode,mode]/M_norm[mode,mode])\n",
    "f_2 = w_2/np.pi/2\n",
    "print(('f2 = {}').format(f_2))"
   ]
  },
  {
   "cell_type": "code",
   "execution_count": null,
   "metadata": {
    "scrolled": true
   },
   "outputs": [],
   "source": [
    "A = np.linalg.inv(M)@K\n",
    "print(('Av = {}').format(A@v[:,0]))\n",
    "print(('wv = {}').format(lamb[0]*v[:,0]))"
   ]
  },
  {
   "cell_type": "code",
   "execution_count": null,
   "metadata": {},
   "outputs": [],
   "source": [
    "for mode in range(len(w)):\n",
    "    v[:,mode] = v[:,mode]/max(abs(v[:,mode]))\n",
    "v"
   ]
  },
  {
   "cell_type": "code",
   "execution_count": null,
   "metadata": {},
   "outputs": [],
   "source": [
    "printMatrix(v)"
   ]
  },
  {
   "cell_type": "code",
   "execution_count": null,
   "metadata": {},
   "outputs": [],
   "source": []
  }
 ],
 "metadata": {
  "kernelspec": {
   "display_name": "Python 3",
   "language": "python",
   "name": "python3"
  },
  "language_info": {
   "codemirror_mode": {
    "name": "ipython",
    "version": 3
   },
   "file_extension": ".py",
   "mimetype": "text/x-python",
   "name": "python",
   "nbconvert_exporter": "python",
   "pygments_lexer": "ipython3",
   "version": "3.6.9"
  }
 },
 "nbformat": 4,
 "nbformat_minor": 2
}
