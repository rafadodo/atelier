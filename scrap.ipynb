{
 "cells": [
  {
   "cell_type": "markdown",
   "metadata": {},
   "source": [
    "### Estimación de S_xx a partir de FDD"
   ]
  },
  {
   "cell_type": "code",
   "execution_count": null,
   "metadata": {},
   "outputs": [],
   "source": [
    "peak_selec = 1 # nro de pico a estimar\n",
    "peak_width = 30 # ancho de banda a estimar (en indices)\n",
    "idxes = [mode_ind_fdd[peak_selec]- peak_width//2, mode_ind_fdd[peak_selec] + peak_width//2]\n",
    "f_S_hat = f_S[idxes[0]:idxes[1]]\n",
    "n_modes = 2 # cantidad de modos considerados"
   ]
  },
  {
   "cell_type": "code",
   "execution_count": null,
   "metadata": {},
   "outputs": [],
   "source": [
    "H_shape = (S_xx.shape[1], S_xx.shape[1]*len(f_S_hat))\n",
    "H = np.zeros(H_shape)\n",
    "H = np.reshape(S_xx[idxes[0]:idxes[1], :, :], H_shape, 'F')\n",
    "\n",
    "w_S = 2*np.pi*f_S\n",
    "w_S_hat = 2*np.pi*f_S_hat\n",
    "\n",
    "D = np.zeros((len(f_S_hat), n_modes, n_modes), dtype=complex)\n",
    "for mode in range(D.shape[1]):\n",
    "    lamb = w_S[mode_ind_fdd[peak_selec]]*(-Xi[mode] + 1j*np.sqrt(1-Xi[mode]**2))\n",
    "    D[:, mode, mode] = 1/(1j*w_S_hat - lamb)\n",
    "    \n",
    "modes_fdd_3d = np.repeat(modes_fdd.T[np.newaxis, :n_modes, :], len(w_S_hat), axis=0)\n",
    "pre_M_fdd = np.matmul(D, modes_fdd_3d, dtype=complex)\n",
    "dofs = pre_M_fdd.shape[2]\n",
    "M_fdd = np.empty_like((pre_M_fdd.reshape((pre_M_fdd.shape[1], pre_M_fdd.shape[0]*dofs),order='C')))\n",
    "i=0\n",
    "while i < pre_M_fdd.shape[0]:\n",
    "    j = i*dofs\n",
    "    M_fdd[:,j:j+dofs] = pre_M_fdd[i,:,:]\n",
    "    i += 1\n",
    "    \n",
    "tau = np.matmul(H,np.linalg.pinv(M_fdd))\n",
    "\n",
    "S_xx_hat = np.repeat(tau[np.newaxis, :, :], len(w_S_hat), axis=0)@D@modes_fdd_3d"
   ]
  },
  {
   "cell_type": "code",
   "execution_count": null,
   "metadata": {},
   "outputs": [],
   "source": [
    "plt.semilogy(f_S[:len(f_S)//4], abs(S_xx[:len(f_S)//4,0,0]))\n",
    "plt.semilogy(f_S_hat, abs(S_xx_hat[:,0,0]))"
   ]
  },
  {
   "cell_type": "code",
   "execution_count": null,
   "metadata": {},
   "outputs": [],
   "source": [
    "plt.semilogy(f_S_hat, abs(S_xx[idxes[0]:idxes[1],1,0]))\n",
    "plt.semilogy(f_S_hat, abs(S_xx_hat[:,1,0]))"
   ]
  },
  {
   "cell_type": "code",
   "execution_count": null,
   "metadata": {},
   "outputs": [],
   "source": []
  }
 ],
 "metadata": {
  "kernelspec": {
   "display_name": "Python 3",
   "language": "python",
   "name": "python3"
  },
  "language_info": {
   "codemirror_mode": {
    "name": "ipython",
    "version": 3
   },
   "file_extension": ".py",
   "mimetype": "text/x-python",
   "name": "python",
   "nbconvert_exporter": "python",
   "pygments_lexer": "ipython3",
   "version": "3.7.6"
  }
 },
 "nbformat": 4,
 "nbformat_minor": 4
}
