{
 "cells": [
  {
   "cell_type": "markdown",
   "metadata": {},
   "source": [
    "### Theoretical solution of the acoustic field radiated from a disc source in an infinite baffle"
   ]
  },
  {
   "cell_type": "code",
   "execution_count": null,
   "metadata": {},
   "outputs": [],
   "source": [
    "import numpy as np\n",
    "import scipy.special as sp\n",
    "import matplotlib.pyplot as plt"
   ]
  },
  {
   "cell_type": "code",
   "execution_count": null,
   "metadata": {},
   "outputs": [],
   "source": [
    "# medium\n",
    "sound_speed_air = 343 # [m/s] @20°C\n",
    "sound_speed_water = 1481 # [m/s] @20°C\n",
    "air_density = 1.21 # kg/m^3 @20°C\n",
    "air_impedance = air_density * sound_speed_air # \n",
    "\n",
    "# source\n",
    "frequency = 1.65e6 # [1/s]\n",
    "wavelength = sound_speed_air/frequency # [m]\n",
    "source_radius = 0.011 # [m]\n",
    "wave_number = 2*np.pi/wavelength\n",
    "\n",
    "# piston far field: r >> pi*a^2 / lambda --> r = 10*pi*a^2/lambda\n",
    "far_field_transition  = source_radius**2/wavelength\n",
    "far_field_distance = 3*far_field_transition\n",
    "\n",
    "print('wavelength = {:.3g}m'.format(wavelength))\n",
    "print('wave number = {:.3g}'.format(wave_number))\n",
    "print('far field transition = {:.3g}m'.format(far_field_transition))\n",
    "print('far field distance = {:.3g}m'.format(far_field_distance))"
   ]
  },
  {
   "cell_type": "code",
   "execution_count": null,
   "metadata": {},
   "outputs": [],
   "source": [
    "# Theoretical solution\n",
    "k = wave_number\n",
    "z = air_impedance\n",
    "a = source_radius\n",
    "\n",
    "theta = np.linspace(-np.pi/2,np.pi/2,100)\n",
    "r = np.linspace(0.01,1,100)\n",
    "pressure = np.zeros(shape=(len(theta),len(r)))\n",
    "\n",
    "constant_factor = 1j*k*z*np.pi*(a**2)\n",
    "for row in range(len(theta)):\n",
    "    for col in range(len(r)):\n",
    "        exponential_factor = np.exp(1j*k*r[col])/2*np.pi*r[col]\n",
    "        bessel_factor = 2*sp.j0(k*a*np.sin((theta[row])/(k*a*np.sin(theta[row]))))\n",
    "        pressure[row,col] = constant_factor*exponential_factor*bessel_factor\n",
    "\n",
    "# theoretical pressure at theta = 0\n",
    "pressure_theta_0 = np.zeros(shape=(1,len(r)))\n",
    "\n",
    "for col in range(len(r)):\n",
    "    exponential_factor = np.exp(1j*k*r[col])/2*np.pi*r[col]\n",
    "    pressure_theta_0[0,col] = constant_factor*exponential_factor\n",
    "        \n",
    "print(pressure[49,99])\n",
    "print(pressure_theta_0[0,99])"
   ]
  },
  {
   "cell_type": "code",
   "execution_count": null,
   "metadata": {},
   "outputs": [],
   "source": [
    "# heatmap plot\n",
    "fig, ax = plt.subplots()\n",
    "\n",
    "c = ax.pcolormesh(theta, r, pressure, cmap='RdBu') #, vmin=z_min, vmax=z_max)\n",
    "ax.set_title('pcolormesh')\n",
    "# set the limits of the plot to the limits of the data\n",
    "ax.axis([theta.min(), theta.max(), r.min(), r.max()])\n",
    "fig.colorbar(c, ax=ax)\n",
    "\n",
    "plt.show()"
   ]
  },
  {
   "cell_type": "code",
   "execution_count": null,
   "metadata": {},
   "outputs": [],
   "source": [
    "    plt.imshow(pressure, cmap='viridis')\n",
    "    plt.scatter(, pressure.max())\n",
    "    plt.colorbar()\n",
    "    plt.show()"
   ]
  },
  {
   "cell_type": "code",
   "execution_count": null,
   "metadata": {},
   "outputs": [],
   "source": []
  },
  {
   "cell_type": "code",
   "execution_count": null,
   "metadata": {},
   "outputs": [],
   "source": []
  }
 ],
 "metadata": {
  "kernelspec": {
   "display_name": "Python 3",
   "language": "python",
   "name": "python3"
  },
  "language_info": {
   "codemirror_mode": {
    "name": "ipython",
    "version": 3
   },
   "file_extension": ".py",
   "mimetype": "text/x-python",
   "name": "python",
   "nbconvert_exporter": "python",
   "pygments_lexer": "ipython3",
   "version": "3.6.9"
  }
 },
 "nbformat": 4,
 "nbformat_minor": 2
}
