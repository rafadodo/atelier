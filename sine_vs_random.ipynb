{
 "cells": [
  {
   "cell_type": "code",
   "execution_count": 1,
   "metadata": {},
   "outputs": [],
   "source": [
    "import time\n",
    "import numpy as np\n",
    "from scipy import signal\n",
    "from scipy import fftpack\n",
    "import matplotlib.pyplot as plt"
   ]
  },
  {
   "cell_type": "code",
   "execution_count": 2,
   "metadata": {},
   "outputs": [],
   "source": [
    "def psd_charact(t_end, f_s, N_segment):\n",
    "    delta_t = 1/f_s\n",
    "    samples = t_end/delta_t\n",
    "    f_res = f_s/N_segment\n",
    "    n_windows = 2*samples/N_segment - 1\n",
    "    print(f'samples : {int(samples)}')\n",
    "    print(f'f_res: {round(f_res,2)} Hz')\n",
    "    print(f'n_windows: {int(n_windows)}')\n",
    "    return None"
   ]
  },
  {
   "cell_type": "code",
   "execution_count": 29,
   "metadata": {},
   "outputs": [],
   "source": [
    "def sine_charact(f_start, f_end, sweep_rate):\n",
    "    total_time_min = np.log(f_end/f_start)/ np.log(2) / sweep_rate\n",
    "    print(f'Total time [min]: {total_time_min}')\n",
    "    return None"
   ]
  },
  {
   "cell_type": "code",
   "execution_count": 30,
   "metadata": {},
   "outputs": [
    {
     "name": "stdout",
     "output_type": "stream",
     "text": [
      "Total time [min]: 3.3219280948873626\n"
     ]
    }
   ],
   "source": [
    "sine_charact(20, 2000, 2)"
   ]
  },
  {
   "cell_type": "code",
   "execution_count": 22,
   "metadata": {},
   "outputs": [
    {
     "data": {
      "text/plain": [
       "6.643856189774725"
      ]
     },
     "execution_count": 22,
     "metadata": {},
     "output_type": "execute_result"
    }
   ],
   "source": [
    "np.log(100)/ np.log(2)"
   ]
  },
  {
   "cell_type": "code",
   "execution_count": null,
   "metadata": {},
   "outputs": [],
   "source": []
  },
  {
   "cell_type": "code",
   "execution_count": 2,
   "metadata": {},
   "outputs": [],
   "source": [
    "def psd_charact(t_end, f_s, N_segment):\n",
    "    delta_t = 1/f_s\n",
    "    samples = t_end/delta_t\n",
    "    f_res = f_s/N_segment\n",
    "    n_windows = 2*samples/N_segment - 1\n",
    "    print(f'samples : {int(samples)}')\n",
    "    print(f'f_res: {round(f_res,2)} Hz')\n",
    "    print(f'n_windows: {int(n_windows)}')\n",
    "    return None"
   ]
  },
  {
   "cell_type": "code",
   "execution_count": 8,
   "metadata": {},
   "outputs": [
    {
     "name": "stdout",
     "output_type": "stream",
     "text": [
      "samples : 72000\n",
      "f_res: 0.29 Hz\n",
      "n_windows: 34\n"
     ]
    }
   ],
   "source": [
    "psd_charact(60, 1200, 4096)"
   ]
  },
  {
   "cell_type": "code",
   "execution_count": null,
   "metadata": {},
   "outputs": [],
   "source": []
  }
 ],
 "metadata": {
  "kernelspec": {
   "display_name": "Python 3",
   "language": "python",
   "name": "python3"
  },
  "language_info": {
   "codemirror_mode": {
    "name": "ipython",
    "version": 3
   },
   "file_extension": ".py",
   "mimetype": "text/x-python",
   "name": "python",
   "nbconvert_exporter": "python",
   "pygments_lexer": "ipython3",
   "version": "3.7.6"
  }
 },
 "nbformat": 4,
 "nbformat_minor": 4
}
